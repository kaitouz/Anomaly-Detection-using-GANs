{
 "cells": [
  {
   "cell_type": "code",
   "execution_count": 1,
   "metadata": {},
   "outputs": [],
   "source": [
    "import os\n",
    "import sys\n",
    "sys.path.append('../')\n",
    "import numpy as np \n",
    "import cv2\n",
    "import matplotlib.pyplot as plt\n",
    "from omegaconf import OmegaConf\n",
    "\n",
    "import torch\n",
    "import torch.nn as nn\n",
    "\n",
    "from Data.MVTEC_data import MVTecDataloader\n",
    "from Models.STFPM import STFPM\n",
    "\n",
    "from Utils.Visualizer import plot_distribution, cal_best_threshold\n",
    "from sklearn.metrics import RocCurveDisplay\n"
   ]
  },
  {
   "cell_type": "code",
   "execution_count": 2,
   "metadata": {},
   "outputs": [
    {
     "data": {
      "text/plain": [
       "{'experiment_name': 'STFPM', 'dataroot': '../Datasets/mvtec/grid', 'experiment_path': '../Experiments/STFPM/mvtec/transistor', 'weight_path': '../checkpoint/STFPM/MVTEC/grid/best.pth.tar', 'checkpoint_save': '../Experiments/STFPM/mvtec/carpet/checkpoint', 'checkpoint_load': '../Experiments/STFPM/mvtec/carpet/checkpoint/checkpoint_best.pt', 'log_path': '.,/Experiments/STFPM/mvtec/carpet/carpet.log', 'start_epoch': 1, 'finish_epoch': 200, 'manualseed': 42, 'batchSize': 64, 'imageSize_h': 256, 'imageSize_w': 256, 'lossSize_h': 64, 'lossSize_w': 64, 'device': 'gpu', 'gpu_ids': 0, 'ngpu': 1, 'lr': 0.4, 'momentum': 0.9, 'weight_decay': 0.0001, 'sample_interval': 20}"
      ]
     },
     "execution_count": 2,
     "metadata": {},
     "output_type": "execute_result"
    }
   ],
   "source": [
    "args = OmegaConf.load('../Config/mvtec_STFPM_config.yaml')\n",
    "np.random.seed(0)\n",
    "torch.manual_seed(0)\n",
    "args"
   ]
  },
  {
   "cell_type": "code",
   "execution_count": 3,
   "metadata": {},
   "outputs": [],
   "source": [
    "# train_loader, val_loader = MVTecDataloader(args.dataroot, batchSize=args.batchSize, imageSize_h=args.imageSize_h, imageSize_w=args.imageSize_w, is_train=True)\n",
    "test_neg_loader, test_pos_loader = MVTecDataloader(args.dataroot, batchSize=args.batchSize, imageSize_h=args.imageSize_h, imageSize_w=args.imageSize_w, is_train=False)"
   ]
  },
  {
   "cell_type": "code",
   "execution_count": 4,
   "metadata": {},
   "outputs": [
    {
     "name": "stderr",
     "output_type": "stream",
     "text": [
      "/home/gin/miniconda3/envs/vdt/lib/python3.10/site-packages/torchvision/models/_utils.py:208: UserWarning: The parameter 'pretrained' is deprecated since 0.13 and may be removed in the future, please use 'weights' instead.\n",
      "  warnings.warn(\n",
      "/home/gin/miniconda3/envs/vdt/lib/python3.10/site-packages/torchvision/models/_utils.py:223: UserWarning: Arguments other than a weight enum or `None` for 'weights' are deprecated since 0.13 and may be removed in the future. The current behavior is equivalent to passing `weights=ResNet18_Weights.IMAGENET1K_V1`. You can also use `weights=ResNet18_Weights.DEFAULT` to get the most up-to-date weights.\n",
      "  warnings.warn(msg)\n"
     ]
    },
    {
     "name": "stdout",
     "output_type": "stream",
     "text": [
      "Checkpoint load fail.\n",
      "Student'weight have been loaded.\n"
     ]
    },
    {
     "name": "stderr",
     "output_type": "stream",
     "text": [
      "/home/gin/miniconda3/envs/vdt/lib/python3.10/site-packages/torchvision/models/_utils.py:223: UserWarning: Arguments other than a weight enum or `None` for 'weights' are deprecated since 0.13 and may be removed in the future. The current behavior is equivalent to passing `weights=None`.\n",
      "  warnings.warn(msg)\n"
     ]
    }
   ],
   "source": [
    "Tester = STFPM(args)"
   ]
  },
  {
   "cell_type": "code",
   "execution_count": 5,
   "metadata": {},
   "outputs": [],
   "source": [
    "Tester.load_weight()"
   ]
  },
  {
   "cell_type": "code",
   "execution_count": 6,
   "metadata": {},
   "outputs": [
    {
     "data": {
      "text/plain": [
       "(0.9816207184628237,\n",
       " array([False, False, False, False, False, False, False, False, False,\n",
       "        False, False, False, False, False, False, False, False, False,\n",
       "        False, False, False,  True,  True,  True,  True,  True,  True,\n",
       "         True,  True,  True,  True,  True,  True,  True,  True,  True,\n",
       "         True,  True,  True,  True,  True,  True,  True,  True,  True,\n",
       "         True,  True,  True,  True,  True,  True,  True,  True,  True,\n",
       "         True,  True,  True,  True,  True,  True,  True,  True,  True,\n",
       "         True,  True,  True,  True,  True,  True,  True,  True,  True,\n",
       "         True,  True,  True,  True,  True,  True]),\n",
       " array([0.00299557, 0.0035306 , 0.00423634, 0.00290703, 0.00951621,\n",
       "        0.006458  , 0.01256082, 0.00383687, 0.00417841, 0.00270211,\n",
       "        0.00666727, 0.00491016, 0.00471836, 0.00665404, 0.0043033 ,\n",
       "        0.004226  , 0.00664705, 0.00622624, 0.00946762, 0.00559224,\n",
       "        0.00973711, 0.04735725, 0.09422256, 0.04256746, 0.09452632,\n",
       "        0.04963439, 0.06958564, 0.05680761, 0.04470152, 0.01998926,\n",
       "        0.04073373, 0.04699396, 0.04657956, 0.05627905, 0.11424708,\n",
       "        0.04929669, 0.10199053, 0.27578631, 0.05717983, 0.11809982,\n",
       "        0.07906121, 0.10143938, 0.22781339, 0.04825808, 0.0588495 ,\n",
       "        0.04203626, 0.01036927, 0.04448873, 0.0200737 , 0.05505747,\n",
       "        0.12271862, 0.01255105, 0.00998931, 0.00335745, 0.04206187,\n",
       "        0.05350366, 0.08151872, 0.15122753, 0.09986493, 0.07206969,\n",
       "        0.04188924, 0.06216422, 0.04278186, 0.02997421, 0.03583347,\n",
       "        0.01577506, 0.05660845, 0.04697035, 0.23352889, 0.01394153,\n",
       "        0.01147192, 0.0494016 , 0.15407714, 0.02315945, 0.03259848,\n",
       "        0.02627545, 0.02581881, 0.10723261]))"
      ]
     },
     "execution_count": 6,
     "metadata": {},
     "output_type": "execute_result"
    }
   ],
   "source": [
    "Tester.cal_auc(test_neg_loader, test_pos_loader)"
   ]
  },
  {
   "cell_type": "code",
   "execution_count": 7,
   "metadata": {},
   "outputs": [],
   "source": [
    "scores_neg, scores_pos = Tester.get_scores(test_neg_loader, test_pos_loader)"
   ]
  },
  {
   "cell_type": "code",
   "execution_count": 8,
   "metadata": {},
   "outputs": [
    {
     "data": {
      "image/png": "[encoded data removed]",
      "text/plain": [
       "<Figure size 640x480 with 1 Axes>"
      ]
     },
     "metadata": {},
     "output_type": "display_data"
    }
   ],
   "source": [
    "plot_distribution(scores_neg, scores_pos, 20)"
   ]
  },
  {
   "cell_type": "code",
   "execution_count": 9,
   "metadata": {},
   "outputs": [],
   "source": [
    "list_labels = np.concatenate(([0] * len(scores_neg), [1] * len(scores_pos)))\n",
    "list_errors = np.concatenate((scores_neg, scores_pos))"
   ]
  },
  {
   "cell_type": "code",
   "execution_count": 10,
   "metadata": {},
   "outputs": [
    {
     "data": {
      "text/plain": [
       "array([0, 0, 0, 0, 0, 0, 0, 0, 0, 0, 0, 0, 0, 0, 0, 0, 0, 0, 0, 0, 0, 1,\n",
       "       1, 1, 1, 1, 1, 1, 1, 1, 1, 1, 1, 1, 1, 1, 1, 1, 1, 1, 1, 1, 1, 1,\n",
       "       1, 1, 1, 1, 1, 1, 1, 1, 1, 1, 1, 1, 1, 1, 1, 1, 1, 1, 1, 1, 1, 1,\n",
       "       1, 1, 1, 1, 1, 1, 1, 1, 1, 1, 1, 1])"
      ]
     },
     "execution_count": 10,
     "metadata": {},
     "output_type": "execute_result"
    }
   ],
   "source": [
    "list_labels"
   ]
  },
  {
   "cell_type": "code",
   "execution_count": 11,
   "metadata": {},
   "outputs": [
    {
     "data": {
      "text/plain": [
       "array([1.07461183e-03, 3.03382753e-03, 5.61814570e-03, 7.50371283e-04,\n",
       "       2.49523888e-02, 1.37535912e-02, 3.61013505e-02, 4.15532791e-03,\n",
       "       5.40602821e-03, 0.00000000e+00, 1.45199237e-02, 8.08560273e-03,\n",
       "       7.38323710e-03, 1.44714588e-02, 5.86335225e-03, 5.58026995e-03,\n",
       "       1.44458689e-02, 1.29048962e-02, 2.47744391e-02, 1.05832809e-02,\n",
       "       2.57612745e-02, 1.63521505e-01, 3.35136362e-01, 1.45981885e-01,\n",
       "       3.36248701e-01, 1.71860110e-01, 2.44919088e-01, 1.98127517e-01,\n",
       "       1.53796538e-01, 6.33033733e-02, 1.39266995e-01, 1.62191188e-01,\n",
       "       1.60673686e-01, 1.96192002e-01, 4.08463655e-01, 1.70623487e-01,\n",
       "       3.63581705e-01, 1.00000000e+00, 1.99490561e-01, 4.22571905e-01,\n",
       "       2.79617428e-01, 3.61563448e-01, 8.24329194e-01, 1.66820225e-01,\n",
       "       2.05604681e-01, 1.44036690e-01, 2.80761804e-02, 1.53017348e-01,\n",
       "       6.36125751e-02, 1.91718738e-01, 4.39485360e-01, 3.60655823e-02,\n",
       "       2.66848190e-02, 2.39977940e-03, 1.44130496e-01, 1.86028887e-01,\n",
       "       2.88616512e-01, 5.43881421e-01, 3.55798010e-01, 2.54015341e-01,\n",
       "       1.43498333e-01, 2.17742757e-01, 1.46767014e-01, 9.98670050e-02,\n",
       "       1.21322873e-01, 4.78715080e-02, 1.97398231e-01, 1.62104728e-01,\n",
       "       8.45258638e-01, 4.11573264e-02, 3.21139287e-02, 1.71007650e-01,\n",
       "       5.54316316e-01, 7.49121846e-02, 1.09476754e-01, 8.63225830e-02,\n",
       "       8.46504280e-02, 3.82777534e-01])"
      ]
     },
     "execution_count": 11,
     "metadata": {},
     "output_type": "execute_result"
    }
   ],
   "source": [
    "list_scores = (list_errors - np.min(list_errors)) / (np.max(list_errors) - np.min(list_errors))\n",
    "list_scores"
   ]
  },
  {
   "cell_type": "code",
   "execution_count": 12,
   "metadata": {},
   "outputs": [
    {
     "data": {
      "text/plain": [
       "<sklearn.metrics._plot.roc_curve.RocCurveDisplay at 0x7f6a8f36c0d0>"
      ]
     },
     "execution_count": 12,
     "metadata": {},
     "output_type": "execute_result"
    },
    {
     "data": {
      "image/png": "[encoded data removed]",
      "text/plain": [
       "<Figure size 640x480 with 1 Axes>"
      ]
     },
     "metadata": {},
     "output_type": "display_data"
    }
   ],
   "source": [
    "RocCurveDisplay.from_predictions(list_labels, list_scores)"
   ]
  },
  {
   "cell_type": "code",
   "execution_count": 13,
   "metadata": {},
   "outputs": [
    {
     "data": {
      "text/plain": [
       "(0.026684818969992065,\n",
       " 0.9824561403508771,\n",
       " 0.9824561403508771,\n",
       " 0.9615384615384616)"
      ]
     },
     "execution_count": 13,
     "metadata": {},
     "output_type": "execute_result"
    }
   ],
   "source": [
    "best_thre, best_F1_score, best_F2_score, best_accuracy = cal_best_threshold(list_labels, list_scores)\n",
    "best_thre, best_F1_score, best_F2_score, best_accuracy"
   ]
  },
  {
   "cell_type": "code",
   "execution_count": 18,
   "metadata": {},
   "outputs": [
    {
     "data": {
      "text/plain": [
       "(21, 57)"
      ]
     },
     "execution_count": 18,
     "metadata": {},
     "output_type": "execute_result"
    }
   ],
   "source": [
    "len(test_neg_loader.dataset), len(test_pos_loader.dataset)"
   ]
  },
  {
   "cell_type": "code",
   "execution_count": 15,
   "metadata": {},
   "outputs": [
    {
     "data": {
      "text/plain": [
       "<matplotlib.lines.Line2D at 0x7f6a805a53c0>"
      ]
     },
     "execution_count": 15,
     "metadata": {},
     "output_type": "execute_result"
    },
    {
     "data": {
      "image/png": "[encoded data removed]",
      "text/plain": [
       "<Figure size 640x480 with 1 Axes>"
      ]
     },
     "metadata": {},
     "output_type": "display_data"
    }
   ],
   "source": [
    "x = range(len(list_scores))\n",
    "plt.scatter(x[:len(test_neg_loader.dataset)], list_scores[:len(test_neg_loader.dataset)], c='blue', label='First 40')\n",
    "plt.scatter(x[len(test_neg_loader.dataset):], list_scores[len(test_neg_loader.dataset):], c='orange', label='Remaining')\n",
    "plt.axhline(y=best_thre, color='red', linestyle='--', label='y=0.5')"
   ]
  }
 ],
 "metadata": {
  "kernelspec": {
   "display_name": "vdt",
   "language": "python",
   "name": "python3"
  },
  "language_info": {
   "codemirror_mode": {
    "name": "ipython",
    "version": 3
   },
   "file_extension": ".py",
   "mimetype": "text/x-python",
   "name": "python",
   "nbconvert_exporter": "python",
   "pygments_lexer": "ipython3",
   "version": "3.10.11"
  },
  "orig_nbformat": 4
 },
 "nbformat": 4,
 "nbformat_minor": 2
}
