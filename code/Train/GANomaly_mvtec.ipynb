{
 "cells": [
  {
   "cell_type": "code",
   "execution_count": 1,
   "metadata": {},
   "outputs": [],
   "source": [
    "import os\n",
    "import sys\n",
    "sys.path.append('../')\n",
    "import numpy as np\n",
    "import matplotlib.pyplot as plt\n",
    "from omegaconf import OmegaConf\n",
    "\n",
    "import torch\n",
    "import torch.nn as nn\n",
    "\n",
    "from Data.MVTEC_data import MVTecDataloader\n",
    "from Models.GANomaly.GANomaly_mvtec import GANomaly"
   ]
  },
  {
   "cell_type": "code",
   "execution_count": 2,
   "metadata": {},
   "outputs": [
    {
     "data": {
      "text/plain": [
       "{'experiment_name': 'hazelnut', 'experiment_path': './Experiments/GANomaly_mvtec/carpet', 'dataroot': './Datasets/mvtec/carpet', 'checkpoint_save': './Experiments/GANomaly_mvtec/carpet/checkpoint', 'checkpoint_load': './Experiments/GANomaly_mvtec/carpet/checkpoint/checkpoint_best.pt', 'log_path': './Experiments/GANomaly_mvtec/carpet/carpet.log', 'start_epoch': 1, 'finish_epoch': 200, 'manualseed': 42, 'batchSize': 64, 'imageSize_h': 64, 'imageSize_w': 64, 'nc': 3, 'nz': 80, 'ngf': 64, 'n_extra_layers': 0, 'device': 'gpu', 'gpu_ids': 0, 'ngpu': 1, 'lr': 0.0002, 'b1': 0.5, 'b2': 0.999, 'w_adv': 1, 'w_con': 40, 'w_lat': 1, 'reset_disc_value': 1e-05, 'sample_interval': 50}"
      ]
     },
     "execution_count": 2,
     "metadata": {},
     "output_type": "execute_result"
    }
   ],
   "source": [
    "args = OmegaConf.load('./Config/mvtec_GANomaly_config.yaml')\n",
    "os.makedirs(args.experiment_path, exist_ok=True)\n",
    "os.makedirs(args.checkpoint_save, exist_ok=True)\n",
    "np.random.seed(0)\n",
    "torch.manual_seed(0)\n",
    "args"
   ]
  },
  {
   "cell_type": "code",
   "execution_count": 3,
   "metadata": {},
   "outputs": [],
   "source": [
    "train_loader, val_loader = MVTecDataloader(args.dataroot, batchSize=args.batchSize, imageSize_h=args.imageSize_h, imageSize_w=args.imageSize_w, is_train=True)\n",
    "test_neg_loader, test_pos_loader = MVTecDataloader(args.dataroot, batchSize=args.batchSize, imageSize_h=args.imageSize_h, imageSize_w=args.imageSize_w, is_train=False)"
   ]
  },
  {
   "cell_type": "code",
   "execution_count": 4,
   "metadata": {},
   "outputs": [
    {
     "name": "stdout",
     "output_type": "stream",
     "text": [
      "Checkpoint load fail.\n"
     ]
    }
   ],
   "source": [
    "Trainer = GANomaly(args)"
   ]
  },
  {
   "cell_type": "code",
   "execution_count": 5,
   "metadata": {},
   "outputs": [
    {
     "data": {
      "application/vnd.jupyter.widget-view+json": {
       "model_id": "e981c22211b640b78d7748ce9b322354",
       "version_major": 2,
       "version_minor": 0
      },
      "text/plain": [
       "  0%|          | 0/200 [00:00<?, ?it/s]"
      ]
     },
     "metadata": {},
     "output_type": "display_data"
    },
    {
     "name": "stdout",
     "output_type": "stream",
     "text": [
      "gen_epoch_loss  14.99876583644322 1\n",
      "disc_epoch_loss 0.2991141016362235 1\n",
      "Checkpoint saved successfully at epoch 1\n",
      "gen_epoch_loss  10.646628706795829 2\n",
      "disc_epoch_loss 0.001262604771181941 2\n",
      "Checkpoint saved successfully at epoch 2\n",
      "gen_epoch_loss  8.12920731135777 3\n",
      "disc_epoch_loss 0.002672613358923367 3\n",
      "gen_epoch_loss  7.184383841923305 4\n",
      "disc_epoch_loss 0.0034151298393096242 4\n",
      "gen_epoch_loss  6.403055695125035 5\n",
      "disc_epoch_loss 0.003304555326966303 5\n",
      "gen_epoch_loss  5.873845999581473 6\n",
      "disc_epoch_loss 0.0020200209492551428 6\n",
      "gen_epoch_loss  5.4360585757664275 7\n",
      "disc_epoch_loss 0.0019356521312147378 7\n",
      "gen_epoch_loss  4.990409905569894 8\n",
      "disc_epoch_loss 0.0023085245563249502 8\n",
      "gen_epoch_loss  4.573493766784668 9\n",
      "disc_epoch_loss 0.0012768548946561558 9\n",
      "gen_epoch_loss  4.406697286878313 10\n",
      "disc_epoch_loss 0.0013405943755060434 10\n",
      "gen_epoch_loss  4.206554985046386 11\n",
      "disc_epoch_loss 0.0012122167740017177 11\n",
      "gen_epoch_loss  4.204015418461391 12\n",
      "disc_epoch_loss 0.0010089863540737756 12\n",
      "gen_epoch_loss  4.132571029663086 13\n",
      "disc_epoch_loss 0.0009107552585192024 13\n",
      "gen_epoch_loss  4.109215259552002 14\n",
      "disc_epoch_loss 0.0008935435708346111 14\n",
      "gen_epoch_loss  4.066472612108503 15\n",
      "disc_epoch_loss 0.0007109541953208723 15\n",
      "Checkpoint saved successfully at epoch 15\n",
      "gen_epoch_loss  3.997515106201172 16\n",
      "disc_epoch_loss 0.0007958401460200548 16\n",
      "Checkpoint saved successfully at epoch 16\n",
      "gen_epoch_loss  3.930326100758144 17\n",
      "disc_epoch_loss 0.0007143566526272999 17\n",
      "Checkpoint saved successfully at epoch 17\n",
      "gen_epoch_loss  3.8720750740596226 18\n",
      "disc_epoch_loss 0.0006295896900285567 18\n",
      "gen_epoch_loss  3.831128406524658 19\n",
      "disc_epoch_loss 0.0005197073798626662 19\n",
      "Checkpoint saved successfully at epoch 19\n",
      "gen_epoch_loss  3.800833879198347 20\n",
      "disc_epoch_loss 0.0004973422985390893 20\n",
      "gen_epoch_loss  3.8020933287484304 21\n",
      "disc_epoch_loss 0.0004007349156641534 21\n",
      "Checkpoint saved successfully at epoch 21\n",
      "gen_epoch_loss  3.911438969203404 22\n",
      "disc_epoch_loss 0.0003670822330085295 22\n",
      "gen_epoch_loss  3.8513342176164898 23\n",
      "disc_epoch_loss 0.00041818854681748366 23\n",
      "gen_epoch_loss  3.749044234412057 24\n",
      "disc_epoch_loss 0.00023588195451468763 24\n",
      "gen_epoch_loss  3.758992508479527 25\n",
      "disc_epoch_loss 0.00027078181904341495 25\n",
      "gen_epoch_loss  3.6978441170283727 26\n",
      "disc_epoch_loss 0.00026311838300898673 26\n",
      "gen_epoch_loss  3.6604191643851145 27\n",
      "disc_epoch_loss 0.00025324042487357345 27\n",
      "gen_epoch_loss  3.732303810119629 28\n",
      "disc_epoch_loss 0.00031768049229867755 28\n",
      "gen_epoch_loss  3.7418049948556082 29\n",
      "disc_epoch_loss 0.0003138039057375863 29\n",
      "gen_epoch_loss  3.695019272395543 30\n",
      "disc_epoch_loss 0.00023832901871563602 30\n",
      "gen_epoch_loss  3.697626052583967 31\n",
      "disc_epoch_loss 0.00018040748462746185 31\n",
      "gen_epoch_loss  3.6835007667541504 32\n",
      "disc_epoch_loss 0.00019937899653866355 32\n",
      "gen_epoch_loss  3.671035187585013 33\n",
      "disc_epoch_loss 0.0001898994983223799 33\n",
      "gen_epoch_loss  3.6623505115509034 34\n",
      "disc_epoch_loss 0.0001692786205759538 34\n",
      "gen_epoch_loss  3.853493002482823 35\n",
      "disc_epoch_loss 0.0001582202220950941 35\n",
      "gen_epoch_loss  3.7152333532060897 36\n",
      "disc_epoch_loss 0.00025427776293197114 36\n",
      "gen_epoch_loss  3.589780446461269 37\n",
      "disc_epoch_loss 0.00016164844523050955 37\n",
      "gen_epoch_loss  3.6018080302647184 38\n",
      "disc_epoch_loss 0.0001275797103257251 38\n",
      "gen_epoch_loss  3.5381632600511823 39\n",
      "disc_epoch_loss 0.00013327160184936865 39\n",
      "gen_epoch_loss  3.5307464327130997 40\n",
      "disc_epoch_loss 0.0001092737864902509 40\n",
      "gen_epoch_loss  3.6298118250710623 41\n",
      "disc_epoch_loss 0.00012191098461958713 41\n",
      "gen_epoch_loss  3.580671092442104 42\n",
      "disc_epoch_loss 0.00014844488240279525 42\n",
      "gen_epoch_loss  3.594791569028582 43\n",
      "disc_epoch_loss 0.00011998259246216288 43\n",
      "gen_epoch_loss  3.5588667733328685 44\n",
      "disc_epoch_loss 0.00014475484495051204 44\n",
      "gen_epoch_loss  3.5953447341918947 45\n",
      "disc_epoch_loss 0.00013951201316168797 45\n",
      "gen_epoch_loss  3.5582057407924106 46\n",
      "disc_epoch_loss 9.893371773484562e-05 46\n",
      "gen_epoch_loss  3.5736065251486644 47\n",
      "disc_epoch_loss 0.00012397896893422253 47\n",
      "gen_epoch_loss  3.745838396889823 48\n",
      "disc_epoch_loss 8.333696418308787e-05 48\n",
      "gen_epoch_loss  3.5435541221073694 49\n",
      "disc_epoch_loss 0.00011822537489933894 49\n",
      "gen_epoch_loss  3.5289435386657715 50\n",
      "disc_epoch_loss 0.00013152528138432118 50\n",
      "gen_epoch_loss  3.637129919869559 51\n",
      "disc_epoch_loss 9.510378669282155e-05 51\n",
      "gen_epoch_loss  3.689488438197545 52\n",
      "disc_epoch_loss 9.686452613095753e-05 52\n",
      "gen_epoch_loss  3.765912355695452 53\n",
      "disc_epoch_loss 0.00014128302417313015 53\n",
      "Checkpoint saved successfully at epoch 53\n",
      "gen_epoch_loss  3.700800698144095 54\n",
      "disc_epoch_loss 0.00013307753335019308 54\n"
     ]
    },
    {
     "name": "stderr",
     "output_type": "stream",
     "text": [
      "/home/gin/Desktop/FINAL_PROJECT/Utils/Visualizer.py:27: RuntimeWarning: invalid value encountered in divide\n",
      "  f1s = 2 * precs * recs / (precs + recs)\n",
      "/home/gin/Desktop/FINAL_PROJECT/Utils/Visualizer.py:28: RuntimeWarning: invalid value encountered in divide\n",
      "  f2s = 5 * precs * recs / (4 * precs + recs)\n"
     ]
    },
    {
     "name": "stdout",
     "output_type": "stream",
     "text": [
      "gen_epoch_loss  3.7322809219360353 55\n",
      "disc_epoch_loss 0.00010797146231717696 55\n",
      "gen_epoch_loss  3.7075117792401997 56\n",
      "disc_epoch_loss 7.864811258124453e-05 56\n",
      "gen_epoch_loss  3.78532201222011 57\n",
      "disc_epoch_loss 9.645434329286218e-05 57\n",
      "gen_epoch_loss  3.6635978971208845 58\n",
      "disc_epoch_loss 6.338781864282543e-05 58\n",
      "gen_epoch_loss  3.6102114404950822 59\n",
      "disc_epoch_loss 8.441654125428094e-05 59\n",
      "gen_epoch_loss  3.5642500059945244 60\n",
      "disc_epoch_loss 6.324750076081338e-05 60\n"
     ]
    },
    {
     "name": "stderr",
     "output_type": "stream",
     "text": [
      "/home/gin/Desktop/FINAL_PROJECT/Utils/Visualizer.py:27: RuntimeWarning: invalid value encountered in divide\n",
      "  f1s = 2 * precs * recs / (precs + recs)\n",
      "/home/gin/Desktop/FINAL_PROJECT/Utils/Visualizer.py:28: RuntimeWarning: invalid value encountered in divide\n",
      "  f2s = 5 * precs * recs / (4 * precs + recs)\n"
     ]
    },
    {
     "name": "stdout",
     "output_type": "stream",
     "text": [
      "gen_epoch_loss  3.5612979412078856 61\n",
      "disc_epoch_loss 6.248867035277987e-05 61\n",
      "gen_epoch_loss  3.5845040321350097 62\n",
      "disc_epoch_loss 6.176219456912284e-05 62\n"
     ]
    },
    {
     "name": "stderr",
     "output_type": "stream",
     "text": [
      "/home/gin/Desktop/FINAL_PROJECT/Utils/Visualizer.py:27: RuntimeWarning: invalid value encountered in divide\n",
      "  f1s = 2 * precs * recs / (precs + recs)\n",
      "/home/gin/Desktop/FINAL_PROJECT/Utils/Visualizer.py:28: RuntimeWarning: invalid value encountered in divide\n",
      "  f2s = 5 * precs * recs / (4 * precs + recs)\n"
     ]
    },
    {
     "name": "stdout",
     "output_type": "stream",
     "text": [
      "gen_epoch_loss  3.5323461396353584 63\n",
      "disc_epoch_loss 5.824565341754351e-05 63\n",
      "gen_epoch_loss  3.5720598016466414 64\n",
      "disc_epoch_loss 5.322943688952364e-05 64\n",
      "gen_epoch_loss  3.5285429068974086 65\n",
      "disc_epoch_loss 4.156405281849272e-05 65\n",
      "gen_epoch_loss  3.5510695661817278 66\n",
      "disc_epoch_loss 3.881861755092229e-05 66\n",
      "gen_epoch_loss  3.5370843138013566 67\n",
      "disc_epoch_loss 7.469822667189873e-05 67\n",
      "gen_epoch_loss  3.571220111846924 68\n",
      "disc_epoch_loss 6.0060845550781645e-05 68\n",
      "gen_epoch_loss  3.5516582761492046 69\n",
      "disc_epoch_loss 5.816605885879003e-05 69\n",
      "gen_epoch_loss  3.5093187400272914 70\n",
      "disc_epoch_loss 4.195590034734258e-05 70\n",
      "gen_epoch_loss  3.47337555204119 71\n",
      "disc_epoch_loss 4.764350887853652e-05 71\n"
     ]
    },
    {
     "name": "stderr",
     "output_type": "stream",
     "text": [
      "/home/gin/Desktop/FINAL_PROJECT/Utils/Visualizer.py:27: RuntimeWarning: invalid value encountered in divide\n",
      "  f1s = 2 * precs * recs / (precs + recs)\n",
      "/home/gin/Desktop/FINAL_PROJECT/Utils/Visualizer.py:28: RuntimeWarning: invalid value encountered in divide\n",
      "  f2s = 5 * precs * recs / (4 * precs + recs)\n"
     ]
    },
    {
     "name": "stdout",
     "output_type": "stream",
     "text": [
      "gen_epoch_loss  3.4516235147203718 72\n",
      "disc_epoch_loss 4.225377966317215e-05 72\n"
     ]
    },
    {
     "name": "stderr",
     "output_type": "stream",
     "text": [
      "/home/gin/Desktop/FINAL_PROJECT/Utils/Visualizer.py:27: RuntimeWarning: invalid value encountered in divide\n",
      "  f1s = 2 * precs * recs / (precs + recs)\n",
      "/home/gin/Desktop/FINAL_PROJECT/Utils/Visualizer.py:28: RuntimeWarning: invalid value encountered in divide\n",
      "  f2s = 5 * precs * recs / (4 * precs + recs)\n"
     ]
    },
    {
     "name": "stdout",
     "output_type": "stream",
     "text": [
      "gen_epoch_loss  3.427226884024484 73\n",
      "disc_epoch_loss 3.833287430877265e-05 73\n",
      "gen_epoch_loss  3.445754521233695 74\n",
      "disc_epoch_loss 5.135530622542969e-05 74\n",
      "gen_epoch_loss  3.4422367232186453 75\n",
      "disc_epoch_loss 4.6900328327735356e-05 75\n"
     ]
    },
    {
     "name": "stderr",
     "output_type": "stream",
     "text": [
      "/home/gin/Desktop/FINAL_PROJECT/Utils/Visualizer.py:27: RuntimeWarning: invalid value encountered in divide\n",
      "  f1s = 2 * precs * recs / (precs + recs)\n",
      "/home/gin/Desktop/FINAL_PROJECT/Utils/Visualizer.py:28: RuntimeWarning: invalid value encountered in divide\n",
      "  f2s = 5 * precs * recs / (4 * precs + recs)\n"
     ]
    },
    {
     "name": "stdout",
     "output_type": "stream",
     "text": [
      "gen_epoch_loss  3.413310977390834 76\n",
      "disc_epoch_loss 5.789685461162922e-05 76\n",
      "gen_epoch_loss  3.39660233770098 77\n",
      "disc_epoch_loss 5.332034405520452e-05 77\n",
      "gen_epoch_loss  3.391447946003505 78\n",
      "disc_epoch_loss 4.560679881251417e-05 78\n",
      "gen_epoch_loss  3.4397179467337473 79\n",
      "disc_epoch_loss 4.5380764536925457e-05 79\n",
      "gen_epoch_loss  3.4373057433537073 80\n",
      "disc_epoch_loss 4.5027303921025514e-05 80\n",
      "gen_epoch_loss  3.4917808532714845 81\n",
      "disc_epoch_loss 3.6781858372186046e-05 81\n",
      "gen_epoch_loss  3.484806217466082 82\n",
      "disc_epoch_loss 3.12082124375073e-05 82\n",
      "gen_epoch_loss  3.5232370580945696 83\n",
      "disc_epoch_loss 3.622371347903806e-05 83\n",
      "Checkpoint saved successfully at epoch 83\n",
      "gen_epoch_loss  3.4196277822766987 84\n",
      "disc_epoch_loss 2.9133588681621144e-05 84\n",
      "gen_epoch_loss  3.3119944776807513 85\n",
      "disc_epoch_loss 2.4206887090778244e-05 85\n",
      "gen_epoch_loss  3.2828251361846923 86\n",
      "disc_epoch_loss 2.270420840691908e-05 86\n",
      "gen_epoch_loss  3.2448124068123954 87\n",
      "disc_epoch_loss 2.459536709855976e-05 87\n",
      "gen_epoch_loss  3.2271981920514787 88\n",
      "disc_epoch_loss 2.82330832435816e-05 88\n",
      "gen_epoch_loss  3.212629835946219 89\n",
      "disc_epoch_loss 3.335999811367531e-05 89\n",
      "gen_epoch_loss  3.1984952586037774 90\n",
      "disc_epoch_loss 3.8953497590097996e-05 90\n",
      "gen_epoch_loss  3.1883680956704277 91\n",
      "disc_epoch_loss 3.866514286658327e-05 91\n",
      "gen_epoch_loss  3.1782669816698346 92\n",
      "disc_epoch_loss 3.895038618273767e-05 92\n",
      "gen_epoch_loss  3.1691799640655516 93\n",
      "disc_epoch_loss 3.898765301398401e-05 93\n",
      "gen_epoch_loss  3.1605344159262523 94\n",
      "disc_epoch_loss 3.804219574833821e-05 94\n"
     ]
    },
    {
     "name": "stderr",
     "output_type": "stream",
     "text": [
      "/home/gin/Desktop/FINAL_PROJECT/Utils/Visualizer.py:27: RuntimeWarning: invalid value encountered in divide\n",
      "  f1s = 2 * precs * recs / (precs + recs)\n",
      "/home/gin/Desktop/FINAL_PROJECT/Utils/Visualizer.py:28: RuntimeWarning: invalid value encountered in divide\n",
      "  f2s = 5 * precs * recs / (4 * precs + recs)\n"
     ]
    },
    {
     "name": "stdout",
     "output_type": "stream",
     "text": [
      "gen_epoch_loss  3.154271084921701 95\n",
      "disc_epoch_loss 3.7985949945453154e-05 95\n"
     ]
    },
    {
     "name": "stderr",
     "output_type": "stream",
     "text": [
      "/home/gin/Desktop/FINAL_PROJECT/Utils/Visualizer.py:27: RuntimeWarning: invalid value encountered in divide\n",
      "  f1s = 2 * precs * recs / (precs + recs)\n",
      "/home/gin/Desktop/FINAL_PROJECT/Utils/Visualizer.py:28: RuntimeWarning: invalid value encountered in divide\n",
      "  f2s = 5 * precs * recs / (4 * precs + recs)\n"
     ]
    },
    {
     "name": "stdout",
     "output_type": "stream",
     "text": [
      "gen_epoch_loss  3.150139025279454 96\n",
      "disc_epoch_loss 3.820958112815528e-05 96\n"
     ]
    },
    {
     "name": "stderr",
     "output_type": "stream",
     "text": [
      "/home/gin/Desktop/FINAL_PROJECT/Utils/Visualizer.py:27: RuntimeWarning: invalid value encountered in divide\n",
      "  f1s = 2 * precs * recs / (precs + recs)\n",
      "/home/gin/Desktop/FINAL_PROJECT/Utils/Visualizer.py:28: RuntimeWarning: invalid value encountered in divide\n",
      "  f2s = 5 * precs * recs / (4 * precs + recs)\n"
     ]
    },
    {
     "name": "stdout",
     "output_type": "stream",
     "text": [
      "gen_epoch_loss  3.1468423775264194 97\n",
      "disc_epoch_loss 3.9079781864919437e-05 97\n"
     ]
    },
    {
     "name": "stderr",
     "output_type": "stream",
     "text": [
      "/home/gin/Desktop/FINAL_PROJECT/Utils/Visualizer.py:27: RuntimeWarning: invalid value encountered in divide\n",
      "  f1s = 2 * precs * recs / (precs + recs)\n",
      "/home/gin/Desktop/FINAL_PROJECT/Utils/Visualizer.py:28: RuntimeWarning: invalid value encountered in divide\n",
      "  f2s = 5 * precs * recs / (4 * precs + recs)\n"
     ]
    },
    {
     "name": "stdout",
     "output_type": "stream",
     "text": [
      "gen_epoch_loss  3.1428280012948173 98\n",
      "disc_epoch_loss 4.071090474358893e-05 98\n"
     ]
    },
    {
     "name": "stderr",
     "output_type": "stream",
     "text": [
      "/home/gin/Desktop/FINAL_PROJECT/Utils/Visualizer.py:27: RuntimeWarning: invalid value encountered in divide\n",
      "  f1s = 2 * precs * recs / (precs + recs)\n",
      "/home/gin/Desktop/FINAL_PROJECT/Utils/Visualizer.py:28: RuntimeWarning: invalid value encountered in divide\n",
      "  f2s = 5 * precs * recs / (4 * precs + recs)\n"
     ]
    },
    {
     "name": "stdout",
     "output_type": "stream",
     "text": [
      "gen_epoch_loss  3.138974346433367 99\n",
      "disc_epoch_loss 4.2106023985460136e-05 99\n"
     ]
    },
    {
     "name": "stderr",
     "output_type": "stream",
     "text": [
      "/home/gin/Desktop/FINAL_PROJECT/Utils/Visualizer.py:27: RuntimeWarning: invalid value encountered in divide\n",
      "  f1s = 2 * precs * recs / (precs + recs)\n",
      "/home/gin/Desktop/FINAL_PROJECT/Utils/Visualizer.py:28: RuntimeWarning: invalid value encountered in divide\n",
      "  f2s = 5 * precs * recs / (4 * precs + recs)\n"
     ]
    },
    {
     "name": "stdout",
     "output_type": "stream",
     "text": [
      "gen_epoch_loss  3.1348254135676794 100\n",
      "disc_epoch_loss 4.3834489094609e-05 100\n"
     ]
    },
    {
     "name": "stderr",
     "output_type": "stream",
     "text": [
      "/home/gin/Desktop/FINAL_PROJECT/Utils/Visualizer.py:27: RuntimeWarning: invalid value encountered in divide\n",
      "  f1s = 2 * precs * recs / (precs + recs)\n",
      "/home/gin/Desktop/FINAL_PROJECT/Utils/Visualizer.py:28: RuntimeWarning: invalid value encountered in divide\n",
      "  f2s = 5 * precs * recs / (4 * precs + recs)\n"
     ]
    },
    {
     "name": "stdout",
     "output_type": "stream",
     "text": [
      "Checkpoint saved successfully at epoch 100\n",
      "gen_epoch_loss  3.1313765593937464 101\n",
      "disc_epoch_loss 4.422545425768476e-05 101\n"
     ]
    },
    {
     "name": "stderr",
     "output_type": "stream",
     "text": [
      "/home/gin/Desktop/FINAL_PROJECT/Utils/Visualizer.py:27: RuntimeWarning: invalid value encountered in divide\n",
      "  f1s = 2 * precs * recs / (precs + recs)\n",
      "/home/gin/Desktop/FINAL_PROJECT/Utils/Visualizer.py:28: RuntimeWarning: invalid value encountered in divide\n",
      "  f2s = 5 * precs * recs / (4 * precs + recs)\n"
     ]
    },
    {
     "name": "stdout",
     "output_type": "stream",
     "text": [
      "gen_epoch_loss  3.128456585747855 102\n",
      "disc_epoch_loss 4.394734231547253e-05 102\n",
      "gen_epoch_loss  3.1266294819968086 103\n",
      "disc_epoch_loss 4.260801064707006e-05 103\n",
      "gen_epoch_loss  3.1246320247650146 104\n",
      "disc_epoch_loss 4.1744406917132435e-05 104\n"
     ]
    },
    {
     "name": "stderr",
     "output_type": "stream",
     "text": [
      "/home/gin/Desktop/FINAL_PROJECT/Utils/Visualizer.py:27: RuntimeWarning: invalid value encountered in divide\n",
      "  f1s = 2 * precs * recs / (precs + recs)\n",
      "/home/gin/Desktop/FINAL_PROJECT/Utils/Visualizer.py:28: RuntimeWarning: invalid value encountered in divide\n",
      "  f2s = 5 * precs * recs / (4 * precs + recs)\n"
     ]
    },
    {
     "name": "stdout",
     "output_type": "stream",
     "text": [
      "gen_epoch_loss  3.1213138103485107 105\n",
      "disc_epoch_loss 4.173287150998866e-05 105\n"
     ]
    },
    {
     "name": "stderr",
     "output_type": "stream",
     "text": [
      "/home/gin/Desktop/FINAL_PROJECT/Utils/Visualizer.py:27: RuntimeWarning: invalid value encountered in divide\n",
      "  f1s = 2 * precs * recs / (precs + recs)\n",
      "/home/gin/Desktop/FINAL_PROJECT/Utils/Visualizer.py:28: RuntimeWarning: invalid value encountered in divide\n",
      "  f2s = 5 * precs * recs / (4 * precs + recs)\n"
     ]
    },
    {
     "name": "stdout",
     "output_type": "stream",
     "text": [
      "gen_epoch_loss  3.1272511550358364 106\n",
      "disc_epoch_loss 4.2516242787574554e-05 106\n"
     ]
    },
    {
     "name": "stderr",
     "output_type": "stream",
     "text": [
      "/home/gin/Desktop/FINAL_PROJECT/Utils/Visualizer.py:27: RuntimeWarning: invalid value encountered in divide\n",
      "  f1s = 2 * precs * recs / (precs + recs)\n",
      "/home/gin/Desktop/FINAL_PROJECT/Utils/Visualizer.py:28: RuntimeWarning: invalid value encountered in divide\n",
      "  f2s = 5 * precs * recs / (4 * precs + recs)\n"
     ]
    },
    {
     "name": "stdout",
     "output_type": "stream",
     "text": [
      "gen_epoch_loss  3.1321453298841204 107\n",
      "disc_epoch_loss 4.390943462827376e-05 107\n"
     ]
    },
    {
     "name": "stderr",
     "output_type": "stream",
     "text": [
      "/home/gin/Desktop/FINAL_PROJECT/Utils/Visualizer.py:27: RuntimeWarning: invalid value encountered in divide\n",
      "  f1s = 2 * precs * recs / (precs + recs)\n",
      "/home/gin/Desktop/FINAL_PROJECT/Utils/Visualizer.py:28: RuntimeWarning: invalid value encountered in divide\n",
      "  f2s = 5 * precs * recs / (4 * precs + recs)\n"
     ]
    },
    {
     "name": "stdout",
     "output_type": "stream",
     "text": [
      "gen_epoch_loss  3.1313793522971016 108\n",
      "disc_epoch_loss 4.1140508879574813e-05 108\n"
     ]
    },
    {
     "name": "stderr",
     "output_type": "stream",
     "text": [
      "/home/gin/Desktop/FINAL_PROJECT/Utils/Visualizer.py:27: RuntimeWarning: invalid value encountered in divide\n",
      "  f1s = 2 * precs * recs / (precs + recs)\n",
      "/home/gin/Desktop/FINAL_PROJECT/Utils/Visualizer.py:28: RuntimeWarning: invalid value encountered in divide\n",
      "  f2s = 5 * precs * recs / (4 * precs + recs)\n"
     ]
    },
    {
     "name": "stdout",
     "output_type": "stream",
     "text": [
      "gen_epoch_loss  3.1566381590706962 109\n",
      "disc_epoch_loss 4.560779416351579e-05 109\n"
     ]
    },
    {
     "name": "stderr",
     "output_type": "stream",
     "text": [
      "/home/gin/Desktop/FINAL_PROJECT/Utils/Visualizer.py:27: RuntimeWarning: invalid value encountered in divide\n",
      "  f1s = 2 * precs * recs / (precs + recs)\n",
      "/home/gin/Desktop/FINAL_PROJECT/Utils/Visualizer.py:28: RuntimeWarning: invalid value encountered in divide\n",
      "  f2s = 5 * precs * recs / (4 * precs + recs)\n"
     ]
    },
    {
     "name": "stdout",
     "output_type": "stream",
     "text": [
      "gen_epoch_loss  3.1297456809452604 110\n",
      "disc_epoch_loss 3.467805581749417e-05 110\n"
     ]
    },
    {
     "name": "stderr",
     "output_type": "stream",
     "text": [
      "/home/gin/Desktop/FINAL_PROJECT/Utils/Visualizer.py:27: RuntimeWarning: invalid value encountered in divide\n",
      "  f1s = 2 * precs * recs / (precs + recs)\n",
      "/home/gin/Desktop/FINAL_PROJECT/Utils/Visualizer.py:28: RuntimeWarning: invalid value encountered in divide\n",
      "  f2s = 5 * precs * recs / (4 * precs + recs)\n"
     ]
    },
    {
     "name": "stdout",
     "output_type": "stream",
     "text": [
      "gen_epoch_loss  3.1161220278058734 111\n",
      "disc_epoch_loss 3.334633817887932e-05 111\n"
     ]
    },
    {
     "name": "stderr",
     "output_type": "stream",
     "text": [
      "/home/gin/Desktop/FINAL_PROJECT/Utils/Visualizer.py:27: RuntimeWarning: invalid value encountered in divide\n",
      "  f1s = 2 * precs * recs / (precs + recs)\n",
      "/home/gin/Desktop/FINAL_PROJECT/Utils/Visualizer.py:28: RuntimeWarning: invalid value encountered in divide\n",
      "  f2s = 5 * precs * recs / (4 * precs + recs)\n"
     ]
    },
    {
     "name": "stdout",
     "output_type": "stream",
     "text": [
      "gen_epoch_loss  3.102241611480713 112\n",
      "disc_epoch_loss 3.168342570591319e-05 112\n"
     ]
    },
    {
     "name": "stderr",
     "output_type": "stream",
     "text": [
      "/home/gin/Desktop/FINAL_PROJECT/Utils/Visualizer.py:27: RuntimeWarning: invalid value encountered in divide\n",
      "  f1s = 2 * precs * recs / (precs + recs)\n",
      "/home/gin/Desktop/FINAL_PROJECT/Utils/Visualizer.py:28: RuntimeWarning: invalid value encountered in divide\n",
      "  f2s = 5 * precs * recs / (4 * precs + recs)\n"
     ]
    },
    {
     "name": "stdout",
     "output_type": "stream",
     "text": [
      "gen_epoch_loss  3.0929725987570627 113\n",
      "disc_epoch_loss 3.650167834296423e-05 113\n",
      "gen_epoch_loss  3.082082394191197 114\n",
      "disc_epoch_loss 3.4834752919518255e-05 114\n",
      "gen_epoch_loss  3.0765463284083774 115\n",
      "disc_epoch_loss 3.581936164534584e-05 115\n"
     ]
    },
    {
     "name": "stderr",
     "output_type": "stream",
     "text": [
      "/home/gin/Desktop/FINAL_PROJECT/Utils/Visualizer.py:27: RuntimeWarning: invalid value encountered in divide\n",
      "  f1s = 2 * precs * recs / (precs + recs)\n",
      "/home/gin/Desktop/FINAL_PROJECT/Utils/Visualizer.py:28: RuntimeWarning: invalid value encountered in divide\n",
      "  f2s = 5 * precs * recs / (4 * precs + recs)\n"
     ]
    },
    {
     "name": "stdout",
     "output_type": "stream",
     "text": [
      "gen_epoch_loss  3.0792751516614643 116\n",
      "disc_epoch_loss 3.719597100695994e-05 116\n"
     ]
    },
    {
     "name": "stderr",
     "output_type": "stream",
     "text": [
      "/home/gin/Desktop/FINAL_PROJECT/Utils/Visualizer.py:27: RuntimeWarning: invalid value encountered in divide\n",
      "  f1s = 2 * precs * recs / (precs + recs)\n",
      "/home/gin/Desktop/FINAL_PROJECT/Utils/Visualizer.py:28: RuntimeWarning: invalid value encountered in divide\n",
      "  f2s = 5 * precs * recs / (4 * precs + recs)\n"
     ]
    },
    {
     "name": "stdout",
     "output_type": "stream",
     "text": [
      "gen_epoch_loss  3.081264686584473 117\n",
      "disc_epoch_loss 3.841443228468831e-05 117\n"
     ]
    },
    {
     "name": "stderr",
     "output_type": "stream",
     "text": [
      "/home/gin/Desktop/FINAL_PROJECT/Utils/Visualizer.py:27: RuntimeWarning: invalid value encountered in divide\n",
      "  f1s = 2 * precs * recs / (precs + recs)\n",
      "/home/gin/Desktop/FINAL_PROJECT/Utils/Visualizer.py:28: RuntimeWarning: invalid value encountered in divide\n",
      "  f2s = 5 * precs * recs / (4 * precs + recs)\n"
     ]
    },
    {
     "name": "stdout",
     "output_type": "stream",
     "text": [
      "gen_epoch_loss  3.073283188683646 118\n",
      "disc_epoch_loss 3.869743606108906e-05 118\n",
      "gen_epoch_loss  3.0625068255833217 119\n",
      "disc_epoch_loss 4.330788703685227e-05 119\n"
     ]
    },
    {
     "name": "stderr",
     "output_type": "stream",
     "text": [
      "/home/gin/Desktop/FINAL_PROJECT/Utils/Visualizer.py:27: RuntimeWarning: invalid value encountered in divide\n",
      "  f1s = 2 * precs * recs / (precs + recs)\n",
      "/home/gin/Desktop/FINAL_PROJECT/Utils/Visualizer.py:28: RuntimeWarning: invalid value encountered in divide\n",
      "  f2s = 5 * precs * recs / (4 * precs + recs)\n"
     ]
    },
    {
     "name": "stdout",
     "output_type": "stream",
     "text": [
      "gen_epoch_loss  3.058283860342843 120\n",
      "disc_epoch_loss 4.6016904109689805e-05 120\n",
      "gen_epoch_loss  3.0398205825260707 121\n",
      "disc_epoch_loss 4.8147381000619913e-05 121\n"
     ]
    },
    {
     "name": "stderr",
     "output_type": "stream",
     "text": [
      "/home/gin/Desktop/FINAL_PROJECT/Utils/Visualizer.py:27: RuntimeWarning: invalid value encountered in divide\n",
      "  f1s = 2 * precs * recs / (precs + recs)\n",
      "/home/gin/Desktop/FINAL_PROJECT/Utils/Visualizer.py:28: RuntimeWarning: invalid value encountered in divide\n",
      "  f2s = 5 * precs * recs / (4 * precs + recs)\n"
     ]
    },
    {
     "name": "stdout",
     "output_type": "stream",
     "text": [
      "gen_epoch_loss  3.043928248541696 122\n",
      "disc_epoch_loss 4.713698924336183e-05 122\n"
     ]
    },
    {
     "name": "stderr",
     "output_type": "stream",
     "text": [
      "/home/gin/Desktop/FINAL_PROJECT/Utils/Visualizer.py:27: RuntimeWarning: invalid value encountered in divide\n",
      "  f1s = 2 * precs * recs / (precs + recs)\n",
      "/home/gin/Desktop/FINAL_PROJECT/Utils/Visualizer.py:28: RuntimeWarning: invalid value encountered in divide\n",
      "  f2s = 5 * precs * recs / (4 * precs + recs)\n"
     ]
    },
    {
     "name": "stdout",
     "output_type": "stream",
     "text": [
      "gen_epoch_loss  3.032806594031198 123\n",
      "disc_epoch_loss 5.2725541380433634e-05 123\n"
     ]
    },
    {
     "name": "stderr",
     "output_type": "stream",
     "text": [
      "/home/gin/Desktop/FINAL_PROJECT/Utils/Visualizer.py:27: RuntimeWarning: invalid value encountered in divide\n",
      "  f1s = 2 * precs * recs / (precs + recs)\n",
      "/home/gin/Desktop/FINAL_PROJECT/Utils/Visualizer.py:28: RuntimeWarning: invalid value encountered in divide\n",
      "  f2s = 5 * precs * recs / (4 * precs + recs)\n"
     ]
    },
    {
     "name": "stdout",
     "output_type": "stream",
     "text": [
      "gen_epoch_loss  3.014351258959089 124\n",
      "disc_epoch_loss 4.908209323600334e-05 124\n",
      "gen_epoch_loss  3.0176716327667235 125\n",
      "disc_epoch_loss 5.8339278413248915e-05 125\n"
     ]
    },
    {
     "name": "stderr",
     "output_type": "stream",
     "text": [
      "/home/gin/Desktop/FINAL_PROJECT/Utils/Visualizer.py:27: RuntimeWarning: invalid value encountered in divide\n",
      "  f1s = 2 * precs * recs / (precs + recs)\n",
      "/home/gin/Desktop/FINAL_PROJECT/Utils/Visualizer.py:28: RuntimeWarning: invalid value encountered in divide\n",
      "  f2s = 5 * precs * recs / (4 * precs + recs)\n"
     ]
    },
    {
     "name": "stdout",
     "output_type": "stream",
     "text": [
      "gen_epoch_loss  3.008697148731777 126\n",
      "disc_epoch_loss 5.7055914658121766e-05 126\n"
     ]
    },
    {
     "name": "stderr",
     "output_type": "stream",
     "text": [
      "/home/gin/Desktop/FINAL_PROJECT/Utils/Visualizer.py:27: RuntimeWarning: invalid value encountered in divide\n",
      "  f1s = 2 * precs * recs / (precs + recs)\n",
      "/home/gin/Desktop/FINAL_PROJECT/Utils/Visualizer.py:28: RuntimeWarning: invalid value encountered in divide\n",
      "  f2s = 5 * precs * recs / (4 * precs + recs)\n"
     ]
    },
    {
     "name": "stdout",
     "output_type": "stream",
     "text": [
      "gen_epoch_loss  2.9927992139543806 127\n",
      "disc_epoch_loss 6.4208510593744e-05 127\n"
     ]
    },
    {
     "name": "stderr",
     "output_type": "stream",
     "text": [
      "/home/gin/Desktop/FINAL_PROJECT/Utils/Visualizer.py:27: RuntimeWarning: invalid value encountered in divide\n",
      "  f1s = 2 * precs * recs / (precs + recs)\n",
      "/home/gin/Desktop/FINAL_PROJECT/Utils/Visualizer.py:28: RuntimeWarning: invalid value encountered in divide\n",
      "  f2s = 5 * precs * recs / (4 * precs + recs)\n"
     ]
    },
    {
     "name": "stdout",
     "output_type": "stream",
     "text": [
      "gen_epoch_loss  2.97977922303336 128\n",
      "disc_epoch_loss 6.57390256362435e-05 128\n"
     ]
    },
    {
     "name": "stderr",
     "output_type": "stream",
     "text": [
      "/home/gin/Desktop/FINAL_PROJECT/Utils/Visualizer.py:27: RuntimeWarning: invalid value encountered in divide\n",
      "  f1s = 2 * precs * recs / (precs + recs)\n",
      "/home/gin/Desktop/FINAL_PROJECT/Utils/Visualizer.py:28: RuntimeWarning: invalid value encountered in divide\n",
      "  f2s = 5 * precs * recs / (4 * precs + recs)\n"
     ]
    },
    {
     "name": "stdout",
     "output_type": "stream",
     "text": [
      "gen_epoch_loss  2.9710949420928956 129\n",
      "disc_epoch_loss 6.318580375851265e-05 129\n"
     ]
    },
    {
     "name": "stderr",
     "output_type": "stream",
     "text": [
      "/home/gin/Desktop/FINAL_PROJECT/Utils/Visualizer.py:27: RuntimeWarning: invalid value encountered in divide\n",
      "  f1s = 2 * precs * recs / (precs + recs)\n",
      "/home/gin/Desktop/FINAL_PROJECT/Utils/Visualizer.py:28: RuntimeWarning: invalid value encountered in divide\n",
      "  f2s = 5 * precs * recs / (4 * precs + recs)\n"
     ]
    },
    {
     "name": "stdout",
     "output_type": "stream",
     "text": [
      "gen_epoch_loss  2.978662749699184 130\n",
      "disc_epoch_loss 6.18609252601995e-05 130\n"
     ]
    },
    {
     "name": "stderr",
     "output_type": "stream",
     "text": [
      "/home/gin/Desktop/FINAL_PROJECT/Utils/Visualizer.py:27: RuntimeWarning: invalid value encountered in divide\n",
      "  f1s = 2 * precs * recs / (precs + recs)\n",
      "/home/gin/Desktop/FINAL_PROJECT/Utils/Visualizer.py:28: RuntimeWarning: invalid value encountered in divide\n",
      "  f2s = 5 * precs * recs / (4 * precs + recs)\n"
     ]
    },
    {
     "name": "stdout",
     "output_type": "stream",
     "text": [
      "gen_epoch_loss  2.9652310167040143 131\n",
      "disc_epoch_loss 7.089351129252464e-05 131\n",
      "gen_epoch_loss  2.975580024719238 132\n",
      "disc_epoch_loss 6.172937750566883e-05 132\n",
      "gen_epoch_loss  2.995004599434989 133\n",
      "disc_epoch_loss 6.237071211216972e-05 133\n"
     ]
    },
    {
     "name": "stderr",
     "output_type": "stream",
     "text": [
      "/home/gin/Desktop/FINAL_PROJECT/Utils/Visualizer.py:27: RuntimeWarning: invalid value encountered in divide\n",
      "  f1s = 2 * precs * recs / (precs + recs)\n",
      "/home/gin/Desktop/FINAL_PROJECT/Utils/Visualizer.py:28: RuntimeWarning: invalid value encountered in divide\n",
      "  f2s = 5 * precs * recs / (4 * precs + recs)\n"
     ]
    },
    {
     "name": "stdout",
     "output_type": "stream",
     "text": [
      "gen_epoch_loss  2.990842301504953 134\n",
      "disc_epoch_loss 5.823976181480768e-05 134\n"
     ]
    },
    {
     "name": "stderr",
     "output_type": "stream",
     "text": [
      "/home/gin/Desktop/FINAL_PROJECT/Utils/Visualizer.py:27: RuntimeWarning: invalid value encountered in divide\n",
      "  f1s = 2 * precs * recs / (precs + recs)\n",
      "/home/gin/Desktop/FINAL_PROJECT/Utils/Visualizer.py:28: RuntimeWarning: invalid value encountered in divide\n",
      "  f2s = 5 * precs * recs / (4 * precs + recs)\n"
     ]
    },
    {
     "name": "stdout",
     "output_type": "stream",
     "text": [
      "gen_epoch_loss  2.952590227127075 135\n",
      "disc_epoch_loss 6.207772821653634e-05 135\n"
     ]
    },
    {
     "name": "stderr",
     "output_type": "stream",
     "text": [
      "/home/gin/Desktop/FINAL_PROJECT/Utils/Visualizer.py:27: RuntimeWarning: invalid value encountered in divide\n",
      "  f1s = 2 * precs * recs / (precs + recs)\n",
      "/home/gin/Desktop/FINAL_PROJECT/Utils/Visualizer.py:28: RuntimeWarning: invalid value encountered in divide\n",
      "  f2s = 5 * precs * recs / (4 * precs + recs)\n"
     ]
    },
    {
     "name": "stdout",
     "output_type": "stream",
     "text": [
      "gen_epoch_loss  2.94335492679051 136\n",
      "disc_epoch_loss 6.66503375604017e-05 136\n"
     ]
    },
    {
     "name": "stderr",
     "output_type": "stream",
     "text": [
      "/home/gin/Desktop/FINAL_PROJECT/Utils/Visualizer.py:27: RuntimeWarning: invalid value encountered in divide\n",
      "  f1s = 2 * precs * recs / (precs + recs)\n",
      "/home/gin/Desktop/FINAL_PROJECT/Utils/Visualizer.py:28: RuntimeWarning: invalid value encountered in divide\n",
      "  f2s = 5 * precs * recs / (4 * precs + recs)\n"
     ]
    },
    {
     "name": "stdout",
     "output_type": "stream",
     "text": [
      "gen_epoch_loss  2.927733973094395 137\n",
      "disc_epoch_loss 6.564629916933232e-05 137\n",
      "gen_epoch_loss  2.9288884912218367 138\n",
      "disc_epoch_loss 6.553058275520536e-05 138\n"
     ]
    },
    {
     "name": "stderr",
     "output_type": "stream",
     "text": [
      "/home/gin/Desktop/FINAL_PROJECT/Utils/Visualizer.py:27: RuntimeWarning: invalid value encountered in divide\n",
      "  f1s = 2 * precs * recs / (precs + recs)\n",
      "/home/gin/Desktop/FINAL_PROJECT/Utils/Visualizer.py:28: RuntimeWarning: invalid value encountered in divide\n",
      "  f2s = 5 * precs * recs / (4 * precs + recs)\n"
     ]
    },
    {
     "name": "stdout",
     "output_type": "stream",
     "text": [
      "gen_epoch_loss  2.926355014528547 139\n",
      "disc_epoch_loss 6.303806356819613e-05 139\n"
     ]
    },
    {
     "name": "stderr",
     "output_type": "stream",
     "text": [
      "/home/gin/Desktop/FINAL_PROJECT/Utils/Visualizer.py:27: RuntimeWarning: invalid value encountered in divide\n",
      "  f1s = 2 * precs * recs / (precs + recs)\n",
      "/home/gin/Desktop/FINAL_PROJECT/Utils/Visualizer.py:28: RuntimeWarning: invalid value encountered in divide\n",
      "  f2s = 5 * precs * recs / (4 * precs + recs)\n"
     ]
    },
    {
     "name": "stdout",
     "output_type": "stream",
     "text": [
      "gen_epoch_loss  2.9190523283822194 140\n",
      "disc_epoch_loss 5.7991133819866396e-05 140\n"
     ]
    },
    {
     "name": "stderr",
     "output_type": "stream",
     "text": [
      "/home/gin/Desktop/FINAL_PROJECT/Utils/Visualizer.py:27: RuntimeWarning: invalid value encountered in divide\n",
      "  f1s = 2 * precs * recs / (precs + recs)\n",
      "/home/gin/Desktop/FINAL_PROJECT/Utils/Visualizer.py:28: RuntimeWarning: invalid value encountered in divide\n",
      "  f2s = 5 * precs * recs / (4 * precs + recs)\n"
     ]
    },
    {
     "name": "stdout",
     "output_type": "stream",
     "text": [
      "gen_epoch_loss  2.9094597135271343 141\n",
      "disc_epoch_loss 6.0092091838929006e-05 141\n"
     ]
    },
    {
     "name": "stderr",
     "output_type": "stream",
     "text": [
      "/home/gin/Desktop/FINAL_PROJECT/Utils/Visualizer.py:27: RuntimeWarning: invalid value encountered in divide\n",
      "  f1s = 2 * precs * recs / (precs + recs)\n",
      "/home/gin/Desktop/FINAL_PROJECT/Utils/Visualizer.py:28: RuntimeWarning: invalid value encountered in divide\n",
      "  f2s = 5 * precs * recs / (4 * precs + recs)\n"
     ]
    },
    {
     "name": "stdout",
     "output_type": "stream",
     "text": [
      "gen_epoch_loss  2.9034602914537704 142\n",
      "disc_epoch_loss 5.975303897035441e-05 142\n"
     ]
    },
    {
     "name": "stderr",
     "output_type": "stream",
     "text": [
      "/home/gin/Desktop/FINAL_PROJECT/Utils/Visualizer.py:27: RuntimeWarning: invalid value encountered in divide\n",
      "  f1s = 2 * precs * recs / (precs + recs)\n",
      "/home/gin/Desktop/FINAL_PROJECT/Utils/Visualizer.py:28: RuntimeWarning: invalid value encountered in divide\n",
      "  f2s = 5 * precs * recs / (4 * precs + recs)\n"
     ]
    },
    {
     "name": "stdout",
     "output_type": "stream",
     "text": [
      "gen_epoch_loss  2.9029728889465334 143\n",
      "disc_epoch_loss 5.82392855514107e-05 143\n",
      "gen_epoch_loss  2.927898073196411 144\n",
      "disc_epoch_loss 5.781694905765887e-05 144\n"
     ]
    },
    {
     "name": "stderr",
     "output_type": "stream",
     "text": [
      "/home/gin/Desktop/FINAL_PROJECT/Utils/Visualizer.py:27: RuntimeWarning: invalid value encountered in divide\n",
      "  f1s = 2 * precs * recs / (precs + recs)\n",
      "/home/gin/Desktop/FINAL_PROJECT/Utils/Visualizer.py:28: RuntimeWarning: invalid value encountered in divide\n",
      "  f2s = 5 * precs * recs / (4 * precs + recs)\n"
     ]
    },
    {
     "name": "stdout",
     "output_type": "stream",
     "text": [
      "gen_epoch_loss  2.949908719744001 145\n",
      "disc_epoch_loss 4.9729518546623044e-05 145\n",
      "gen_epoch_loss  2.911948503766741 146\n",
      "disc_epoch_loss 7.17324850224291e-05 146\n",
      "gen_epoch_loss  2.9166411536080497 147\n",
      "disc_epoch_loss 4.761092090380511e-05 147\n",
      "gen_epoch_loss  2.936542626789638 148\n",
      "disc_epoch_loss 6.450673816808766e-05 148\n",
      "gen_epoch_loss  2.9173053468976704 149\n",
      "disc_epoch_loss 4.801748260173814e-05 149\n"
     ]
    },
    {
     "name": "stderr",
     "output_type": "stream",
     "text": [
      "/home/gin/Desktop/FINAL_PROJECT/Utils/Visualizer.py:27: RuntimeWarning: invalid value encountered in divide\n",
      "  f1s = 2 * precs * recs / (precs + recs)\n",
      "/home/gin/Desktop/FINAL_PROJECT/Utils/Visualizer.py:28: RuntimeWarning: invalid value encountered in divide\n",
      "  f2s = 5 * precs * recs / (4 * precs + recs)\n"
     ]
    },
    {
     "name": "stdout",
     "output_type": "stream",
     "text": [
      "gen_epoch_loss  2.8820760658809115 150\n",
      "disc_epoch_loss 4.992003211685057e-05 150\n"
     ]
    },
    {
     "name": "stderr",
     "output_type": "stream",
     "text": [
      "/home/gin/Desktop/FINAL_PROJECT/Utils/Visualizer.py:27: RuntimeWarning: invalid value encountered in divide\n",
      "  f1s = 2 * precs * recs / (precs + recs)\n",
      "/home/gin/Desktop/FINAL_PROJECT/Utils/Visualizer.py:28: RuntimeWarning: invalid value encountered in divide\n",
      "  f2s = 5 * precs * recs / (4 * precs + recs)\n"
     ]
    },
    {
     "name": "stdout",
     "output_type": "stream",
     "text": [
      "gen_epoch_loss  2.8574297428131104 151\n",
      "disc_epoch_loss 5.547864898939484e-05 151\n",
      "gen_epoch_loss  2.8497923510415215 152\n",
      "disc_epoch_loss 5.639980580391628e-05 152\n",
      "gen_epoch_loss  2.850295455115182 153\n",
      "disc_epoch_loss 5.4717564073923446e-05 153\n",
      "gen_epoch_loss  2.8577787399291994 154\n",
      "disc_epoch_loss 5.273420080941703e-05 154\n"
     ]
    },
    {
     "name": "stderr",
     "output_type": "stream",
     "text": [
      "/home/gin/Desktop/FINAL_PROJECT/Utils/Visualizer.py:27: RuntimeWarning: invalid value encountered in divide\n",
      "  f1s = 2 * precs * recs / (precs + recs)\n",
      "/home/gin/Desktop/FINAL_PROJECT/Utils/Visualizer.py:28: RuntimeWarning: invalid value encountered in divide\n",
      "  f2s = 5 * precs * recs / (4 * precs + recs)\n"
     ]
    },
    {
     "name": "stdout",
     "output_type": "stream",
     "text": [
      "gen_epoch_loss  2.8497014386313304 155\n",
      "disc_epoch_loss 5.030781695885318e-05 155\n"
     ]
    },
    {
     "name": "stderr",
     "output_type": "stream",
     "text": [
      "/home/gin/Desktop/FINAL_PROJECT/Utils/Visualizer.py:27: RuntimeWarning: invalid value encountered in divide\n",
      "  f1s = 2 * precs * recs / (precs + recs)\n",
      "/home/gin/Desktop/FINAL_PROJECT/Utils/Visualizer.py:28: RuntimeWarning: invalid value encountered in divide\n",
      "  f2s = 5 * precs * recs / (4 * precs + recs)\n"
     ]
    },
    {
     "name": "stdout",
     "output_type": "stream",
     "text": [
      "gen_epoch_loss  2.839360291617257 156\n",
      "disc_epoch_loss 5.0143756379839036e-05 156\n"
     ]
    },
    {
     "name": "stderr",
     "output_type": "stream",
     "text": [
      "/home/gin/Desktop/FINAL_PROJECT/Utils/Visualizer.py:27: RuntimeWarning: invalid value encountered in divide\n",
      "  f1s = 2 * precs * recs / (precs + recs)\n",
      "/home/gin/Desktop/FINAL_PROJECT/Utils/Visualizer.py:28: RuntimeWarning: invalid value encountered in divide\n",
      "  f2s = 5 * precs * recs / (4 * precs + recs)\n"
     ]
    },
    {
     "name": "stdout",
     "output_type": "stream",
     "text": [
      "gen_epoch_loss  2.8446473462241038 157\n",
      "disc_epoch_loss 4.905189271084964e-05 157\n",
      "gen_epoch_loss  2.877987446103777 158\n",
      "disc_epoch_loss 4.150760921350281e-05 158\n",
      "gen_epoch_loss  2.8723861149379184 159\n",
      "disc_epoch_loss 5.145414751106208e-05 159\n"
     ]
    },
    {
     "name": "stderr",
     "output_type": "stream",
     "text": [
      "/home/gin/Desktop/FINAL_PROJECT/Utils/Visualizer.py:27: RuntimeWarning: invalid value encountered in divide\n",
      "  f1s = 2 * precs * recs / (precs + recs)\n",
      "/home/gin/Desktop/FINAL_PROJECT/Utils/Visualizer.py:28: RuntimeWarning: invalid value encountered in divide\n",
      "  f2s = 5 * precs * recs / (4 * precs + recs)\n"
     ]
    },
    {
     "name": "stdout",
     "output_type": "stream",
     "text": [
      "gen_epoch_loss  2.847007165636335 160\n",
      "disc_epoch_loss 3.68994586876527e-05 160\n",
      "gen_epoch_loss  2.8053484371730257 161\n",
      "disc_epoch_loss 5.17123520174729e-05 161\n"
     ]
    },
    {
     "name": "stderr",
     "output_type": "stream",
     "text": [
      "/home/gin/Desktop/FINAL_PROJECT/Utils/Visualizer.py:27: RuntimeWarning: invalid value encountered in divide\n",
      "  f1s = 2 * precs * recs / (precs + recs)\n",
      "/home/gin/Desktop/FINAL_PROJECT/Utils/Visualizer.py:28: RuntimeWarning: invalid value encountered in divide\n",
      "  f2s = 5 * precs * recs / (4 * precs + recs)\n"
     ]
    },
    {
     "name": "stdout",
     "output_type": "stream",
     "text": [
      "gen_epoch_loss  2.8068189280373708 162\n",
      "disc_epoch_loss 4.337289823784626e-05 162\n",
      "gen_epoch_loss  2.8132879189082556 163\n",
      "disc_epoch_loss 5.50466521027764e-05 163\n",
      "gen_epoch_loss  2.8212203843253 164\n",
      "disc_epoch_loss 4.087985019266073e-05 164\n",
      "gen_epoch_loss  2.826189831324986 165\n",
      "disc_epoch_loss 4.23829911077129e-05 165\n"
     ]
    },
    {
     "name": "stderr",
     "output_type": "stream",
     "text": [
      "/home/gin/Desktop/FINAL_PROJECT/Utils/Visualizer.py:27: RuntimeWarning: invalid value encountered in divide\n",
      "  f1s = 2 * precs * recs / (precs + recs)\n",
      "/home/gin/Desktop/FINAL_PROJECT/Utils/Visualizer.py:28: RuntimeWarning: invalid value encountered in divide\n",
      "  f2s = 5 * precs * recs / (4 * precs + recs)\n"
     ]
    },
    {
     "name": "stdout",
     "output_type": "stream",
     "text": [
      "gen_epoch_loss  2.830950389589582 166\n",
      "disc_epoch_loss 3.666680734438289e-05 166\n",
      "gen_epoch_loss  2.802632577078683 167\n",
      "disc_epoch_loss 4.0044829698412546e-05 167\n"
     ]
    },
    {
     "name": "stderr",
     "output_type": "stream",
     "text": [
      "/home/gin/Desktop/FINAL_PROJECT/Utils/Visualizer.py:27: RuntimeWarning: invalid value encountered in divide\n",
      "  f1s = 2 * precs * recs / (precs + recs)\n",
      "/home/gin/Desktop/FINAL_PROJECT/Utils/Visualizer.py:28: RuntimeWarning: invalid value encountered in divide\n",
      "  f2s = 5 * precs * recs / (4 * precs + recs)\n"
     ]
    },
    {
     "name": "stdout",
     "output_type": "stream",
     "text": [
      "gen_epoch_loss  2.7961652823856897 168\n",
      "disc_epoch_loss 4.032333942762177e-05 168\n",
      "gen_epoch_loss  2.792268535069057 169\n",
      "disc_epoch_loss 4.869894047650243e-05 169\n"
     ]
    },
    {
     "name": "stderr",
     "output_type": "stream",
     "text": [
      "/home/gin/Desktop/FINAL_PROJECT/Utils/Visualizer.py:27: RuntimeWarning: invalid value encountered in divide\n",
      "  f1s = 2 * precs * recs / (precs + recs)\n",
      "/home/gin/Desktop/FINAL_PROJECT/Utils/Visualizer.py:28: RuntimeWarning: invalid value encountered in divide\n",
      "  f2s = 5 * precs * recs / (4 * precs + recs)\n"
     ]
    },
    {
     "name": "stdout",
     "output_type": "stream",
     "text": [
      "gen_epoch_loss  2.8032951150621686 170\n",
      "disc_epoch_loss 3.6943250805571944e-05 170\n",
      "gen_epoch_loss  2.8007221358163017 171\n",
      "disc_epoch_loss 3.7074390067053694e-05 171\n",
      "gen_epoch_loss  2.8042748723711286 172\n",
      "disc_epoch_loss 3.4469318883826156e-05 172\n",
      "gen_epoch_loss  2.77958356993539 173\n",
      "disc_epoch_loss 3.6249776894692334e-05 173\n",
      "gen_epoch_loss  2.7827002797807965 174\n",
      "disc_epoch_loss 3.116428020543286e-05 174\n",
      "gen_epoch_loss  2.790503740310669 175\n",
      "disc_epoch_loss 4.0909779428537666e-05 175\n",
      "gen_epoch_loss  2.7814896515437533 176\n",
      "disc_epoch_loss 3.1314549102847066e-05 176\n",
      "gen_epoch_loss  2.74665869304112 177\n",
      "disc_epoch_loss 3.740613007851477e-05 177\n"
     ]
    },
    {
     "name": "stderr",
     "output_type": "stream",
     "text": [
      "/home/gin/Desktop/FINAL_PROJECT/Utils/Visualizer.py:27: RuntimeWarning: invalid value encountered in divide\n",
      "  f1s = 2 * precs * recs / (precs + recs)\n",
      "/home/gin/Desktop/FINAL_PROJECT/Utils/Visualizer.py:28: RuntimeWarning: invalid value encountered in divide\n",
      "  f2s = 5 * precs * recs / (4 * precs + recs)\n"
     ]
    },
    {
     "name": "stdout",
     "output_type": "stream",
     "text": [
      "gen_epoch_loss  2.750632572174072 178\n",
      "disc_epoch_loss 3.9676197255695506e-05 178\n",
      "gen_epoch_loss  2.7410653523036412 179\n",
      "disc_epoch_loss 4.2147838809926596e-05 179\n",
      "gen_epoch_loss  2.741481399536133 180\n",
      "disc_epoch_loss 3.697457473858127e-05 180\n",
      "gen_epoch_loss  2.7324494974953786 181\n",
      "disc_epoch_loss 3.684342134095329e-05 181\n",
      "gen_epoch_loss  2.7282784870692662 182\n",
      "disc_epoch_loss 4.2562596042573984e-05 182\n",
      "gen_epoch_loss  2.7350608621324812 183\n",
      "disc_epoch_loss 3.999321571817356e-05 183\n",
      "gen_epoch_loss  2.727576971054077 184\n",
      "disc_epoch_loss 3.544752367555962e-05 184\n",
      "gen_epoch_loss  2.7306776523590086 185\n",
      "disc_epoch_loss 3.9313668301994244e-05 185\n",
      "gen_epoch_loss  2.71374112537929 186\n",
      "disc_epoch_loss 3.722670828990106e-05 186\n",
      "gen_epoch_loss  2.713606473377773 187\n",
      "disc_epoch_loss 3.8755936631267626e-05 187\n",
      "gen_epoch_loss  2.72007349559239 188\n",
      "disc_epoch_loss 3.6585173594565795e-05 188\n",
      "gen_epoch_loss  2.722998639515468 189\n",
      "disc_epoch_loss 3.434572468644806e-05 189\n",
      "gen_epoch_loss  2.7644018036978584 190\n",
      "disc_epoch_loss 3.153898666953735e-05 190\n",
      "gen_epoch_loss  2.751706198283604 191\n",
      "disc_epoch_loss 3.3420827198174916e-05 191\n",
      "gen_epoch_loss  2.7238037245614186 192\n",
      "disc_epoch_loss 3.265727199115125e-05 192\n",
      "gen_epoch_loss  2.7306106976100377 193\n",
      "disc_epoch_loss 3.284986929169723e-05 193\n",
      "gen_epoch_loss  2.740088735307966 194\n",
      "disc_epoch_loss 3.0902870223923984e-05 194\n",
      "gen_epoch_loss  2.7621977261134556 195\n",
      "disc_epoch_loss 2.9777548375672528e-05 195\n"
     ]
    },
    {
     "name": "stderr",
     "output_type": "stream",
     "text": [
      "/home/gin/Desktop/FINAL_PROJECT/Utils/Visualizer.py:27: RuntimeWarning: invalid value encountered in divide\n",
      "  f1s = 2 * precs * recs / (precs + recs)\n",
      "/home/gin/Desktop/FINAL_PROJECT/Utils/Visualizer.py:28: RuntimeWarning: invalid value encountered in divide\n",
      "  f2s = 5 * precs * recs / (4 * precs + recs)\n"
     ]
    },
    {
     "name": "stdout",
     "output_type": "stream",
     "text": [
      "gen_epoch_loss  2.7511515753609794 196\n",
      "disc_epoch_loss 3.8425211200124716e-05 196\n"
     ]
    },
    {
     "name": "stderr",
     "output_type": "stream",
     "text": [
      "/home/gin/Desktop/FINAL_PROJECT/Utils/Visualizer.py:27: RuntimeWarning: invalid value encountered in divide\n",
      "  f1s = 2 * precs * recs / (precs + recs)\n",
      "/home/gin/Desktop/FINAL_PROJECT/Utils/Visualizer.py:28: RuntimeWarning: invalid value encountered in divide\n",
      "  f2s = 5 * precs * recs / (4 * precs + recs)\n"
     ]
    },
    {
     "name": "stdout",
     "output_type": "stream",
     "text": [
      "gen_epoch_loss  2.740759025301252 197\n",
      "disc_epoch_loss 2.9610729377184595e-05 197\n",
      "gen_epoch_loss  2.7215661593845915 198\n",
      "disc_epoch_loss 3.0869578975918036e-05 198\n",
      "gen_epoch_loss  2.7468526703970775 199\n",
      "disc_epoch_loss 3.363078389416582e-05 199\n",
      "gen_epoch_loss  2.7738824844360352 200\n",
      "disc_epoch_loss 5.0503742490296386e-05 200\n",
      "Checkpoint saved successfully at epoch 200\n"
     ]
    }
   ],
   "source": [
    "Trainer.train(train_loader, test_neg_loader, test_pos_loader)"
   ]
  }
 ],
 "metadata": {
  "kernelspec": {
   "display_name": "vdt",
   "language": "python",
   "name": "python3"
  },
  "language_info": {
   "codemirror_mode": {
    "name": "ipython",
    "version": 3
   },
   "file_extension": ".py",
   "mimetype": "text/x-python",
   "name": "python",
   "nbconvert_exporter": "python",
   "pygments_lexer": "ipython3",
   "version": "3.10.11"
  },
  "orig_nbformat": 4
 },
 "nbformat": 4,
 "nbformat_minor": 2
}
