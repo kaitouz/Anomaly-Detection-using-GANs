{
 "cells": [
  {
   "cell_type": "code",
   "execution_count": 1,
   "metadata": {},
   "outputs": [],
   "source": [
    "import os\n",
    "import sys\n",
    "sys.path.append('../')\n",
    "import numpy as np\n",
    "import matplotlib.pyplot as plt\n",
    "from omegaconf import OmegaConf\n",
    "\n",
    "import torch\n",
    "import torch.nn as nn\n",
    "\n",
    "from Data.Station_data import StationDataloader\n",
    "from Models.GANomaly.GANomaly_station import GANomaly"
   ]
  },
  {
   "cell_type": "code",
   "execution_count": 2,
   "metadata": {},
   "outputs": [
    {
     "data": {
      "text/plain": [
       "{'experiment_name': 'GANomaly_station_final', 'experiment_path': './Experiments/GANomaly_station_final', 'dataroot': './Datasets/station', 'checkpoint_save': './Experiments/GANomaly_station_final/checkpoint', 'checkpoint_load': './Experiments/GANomaly_station_final/checkpoint/a.pt', 'log_path': './Experiments/GANomaly_station_final/GANomaly_station.log', 'start_epoch': 1, 'finish_epoch': 300, 'manualseed': 42, 'batchSize': 64, 'imageSize_h': 86, 'imageSize_w': 64, 'nc': 3, 'nz': 512, 'ngf': 64, 'n_extra_layers': 0, 'device': 'gpu', 'gpu_ids': 0, 'ngpu': 1, 'lr': 0.0005, 'b1': 0.5, 'b2': 0.999, 'w_adv': 1, 'w_con': 30, 'w_enc': 1, 'reset_disc_value': 1e-05, 'sample_interval': 50}"
      ]
     },
     "execution_count": 2,
     "metadata": {},
     "output_type": "execute_result"
    }
   ],
   "source": [
    "args = OmegaConf.load('../Config/station_GANomaly_config.yaml')\n",
    "os.makedirs(args.experiment_path, exist_ok=True)\n",
    "os.makedirs(args.checkpoint_save, exist_ok=True)\n",
    "np.random.seed(0)\n",
    "torch.manual_seed(0)\n",
    "args"
   ]
  },
  {
   "cell_type": "code",
   "execution_count": 3,
   "metadata": {},
   "outputs": [],
   "source": [
    "train_loader, val_loader = StationDataloader(args.dataroot, batchSize=args.batchSize, imageSize_h=args.imageSize_h, imageSize_w=args.imageSize_w, is_train=True)\n",
    "test_neg_loader, test_pos_loader = StationDataloader(args.dataroot, batchSize=args.batchSize, imageSize_h=args.imageSize_h, imageSize_w=args.imageSize_w, is_train=False)"
   ]
  },
  {
   "cell_type": "code",
   "execution_count": 4,
   "metadata": {},
   "outputs": [
    {
     "name": "stdout",
     "output_type": "stream",
     "text": [
      "Checkpoint load fail.\n"
     ]
    }
   ],
   "source": [
    "Trainer = GANomaly(args)"
   ]
  },
  {
   "cell_type": "code",
   "execution_count": 5,
   "metadata": {},
   "outputs": [
    {
     "data": {
      "application/vnd.jupyter.widget-view+json": {
       "model_id": "f6db7427fd7047eb9ae6c53287460635",
       "version_major": 2,
       "version_minor": 0
      },
      "text/plain": [
       "  0%|          | 0/300 [00:00<?, ?it/s]"
      ]
     },
     "metadata": {},
     "output_type": "display_data"
    },
    {
     "name": "stdout",
     "output_type": "stream",
     "text": [
      "gen_epoch_loss  37.05690444946289 1\n",
      "disc_epoch_loss 0.43607382863759997 1\n"
     ]
    },
    {
     "name": "stderr",
     "output_type": "stream",
     "text": [
      "/home/gin/Desktop/FINAL_PROJECT/Utils/Visualizer.py:27: RuntimeWarning: invalid value encountered in divide\n",
      "  f1s = 2 * precs * recs / (precs + recs)\n",
      "/home/gin/Desktop/FINAL_PROJECT/Utils/Visualizer.py:28: RuntimeWarning: invalid value encountered in divide\n",
      "  f2s = 5 * precs * recs / (4 * precs + recs)\n"
     ]
    },
    {
     "name": "stdout",
     "output_type": "stream",
     "text": [
      "Checkpoint saved successfully at epoch 1\n",
      "gen_epoch_loss  33.91212661743164 2\n",
      "disc_epoch_loss 0.06266412883996964 2\n"
     ]
    },
    {
     "name": "stderr",
     "output_type": "stream",
     "text": [
      "/home/gin/Desktop/FINAL_PROJECT/Utils/Visualizer.py:27: RuntimeWarning: invalid value encountered in divide\n",
      "  f1s = 2 * precs * recs / (precs + recs)\n",
      "/home/gin/Desktop/FINAL_PROJECT/Utils/Visualizer.py:28: RuntimeWarning: invalid value encountered in divide\n",
      "  f2s = 5 * precs * recs / (4 * precs + recs)\n"
     ]
    },
    {
     "name": "stdout",
     "output_type": "stream",
     "text": [
      "Checkpoint saved successfully at epoch 2\n",
      "gen_epoch_loss  30.84522834777832 3\n",
      "disc_epoch_loss 0.051589835286140445 3\n",
      "Checkpoint saved successfully at epoch 3\n",
      "gen_epoch_loss  28.125423889160157 4\n",
      "disc_epoch_loss 0.038088288992003075 4\n"
     ]
    },
    {
     "name": "stderr",
     "output_type": "stream",
     "text": [
      "/home/gin/Desktop/FINAL_PROJECT/Utils/Visualizer.py:27: RuntimeWarning: invalid value encountered in divide\n",
      "  f1s = 2 * precs * recs / (precs + recs)\n",
      "/home/gin/Desktop/FINAL_PROJECT/Utils/Visualizer.py:28: RuntimeWarning: invalid value encountered in divide\n",
      "  f2s = 5 * precs * recs / (4 * precs + recs)\n"
     ]
    },
    {
     "name": "stdout",
     "output_type": "stream",
     "text": [
      "gen_epoch_loss  26.78572898864746 5\n",
      "disc_epoch_loss 0.005431414996273816 5\n",
      "gen_epoch_loss  25.35309600830078 6\n",
      "disc_epoch_loss 0.006992684863507748 6\n"
     ]
    },
    {
     "name": "stderr",
     "output_type": "stream",
     "text": [
      "/home/gin/Desktop/FINAL_PROJECT/Utils/Visualizer.py:27: RuntimeWarning: invalid value encountered in divide\n",
      "  f1s = 2 * precs * recs / (precs + recs)\n",
      "/home/gin/Desktop/FINAL_PROJECT/Utils/Visualizer.py:28: RuntimeWarning: invalid value encountered in divide\n",
      "  f2s = 5 * precs * recs / (4 * precs + recs)\n"
     ]
    },
    {
     "name": "stdout",
     "output_type": "stream",
     "text": [
      "gen_epoch_loss  24.574006576538086 7\n",
      "disc_epoch_loss 0.33090261578559876 7\n"
     ]
    },
    {
     "name": "stderr",
     "output_type": "stream",
     "text": [
      "/home/gin/Desktop/FINAL_PROJECT/Utils/Visualizer.py:27: RuntimeWarning: invalid value encountered in divide\n",
      "  f1s = 2 * precs * recs / (precs + recs)\n",
      "/home/gin/Desktop/FINAL_PROJECT/Utils/Visualizer.py:28: RuntimeWarning: invalid value encountered in divide\n",
      "  f2s = 5 * precs * recs / (4 * precs + recs)\n"
     ]
    },
    {
     "name": "stdout",
     "output_type": "stream",
     "text": [
      "gen_epoch_loss  23.52685401916504 8\n",
      "disc_epoch_loss 1.792419483065605 8\n",
      "gen_epoch_loss  23.36005615234375 9\n",
      "disc_epoch_loss 1.0145879895985126 9\n",
      "gen_epoch_loss  23.146690521240235 10\n",
      "disc_epoch_loss 0.05043199909850955 10\n"
     ]
    },
    {
     "name": "stderr",
     "output_type": "stream",
     "text": [
      "/home/gin/Desktop/FINAL_PROJECT/Utils/Visualizer.py:27: RuntimeWarning: invalid value encountered in divide\n",
      "  f1s = 2 * precs * recs / (precs + recs)\n",
      "/home/gin/Desktop/FINAL_PROJECT/Utils/Visualizer.py:28: RuntimeWarning: invalid value encountered in divide\n",
      "  f2s = 5 * precs * recs / (4 * precs + recs)\n"
     ]
    },
    {
     "name": "stdout",
     "output_type": "stream",
     "text": [
      "gen_epoch_loss  22.00439765930176 11\n",
      "disc_epoch_loss 0.044192936872132126 11\n",
      "gen_epoch_loss  21.995012969970702 12\n",
      "disc_epoch_loss 0.00467619662405923 12\n"
     ]
    },
    {
     "name": "stderr",
     "output_type": "stream",
     "text": [
      "/home/gin/Desktop/FINAL_PROJECT/Utils/Visualizer.py:27: RuntimeWarning: invalid value encountered in divide\n",
      "  f1s = 2 * precs * recs / (precs + recs)\n",
      "/home/gin/Desktop/FINAL_PROJECT/Utils/Visualizer.py:28: RuntimeWarning: invalid value encountered in divide\n",
      "  f2s = 5 * precs * recs / (4 * precs + recs)\n"
     ]
    },
    {
     "name": "stdout",
     "output_type": "stream",
     "text": [
      "Checkpoint saved successfully at epoch 12\n",
      "gen_epoch_loss  21.151565017700197 13\n",
      "disc_epoch_loss 0.002319076444255188 13\n",
      "gen_epoch_loss  20.544918899536132 14\n",
      "disc_epoch_loss 0.00132236490258947 14\n"
     ]
    },
    {
     "name": "stderr",
     "output_type": "stream",
     "text": [
      "/home/gin/Desktop/FINAL_PROJECT/Utils/Visualizer.py:27: RuntimeWarning: invalid value encountered in divide\n",
      "  f1s = 2 * precs * recs / (precs + recs)\n",
      "/home/gin/Desktop/FINAL_PROJECT/Utils/Visualizer.py:28: RuntimeWarning: invalid value encountered in divide\n",
      "  f2s = 5 * precs * recs / (4 * precs + recs)\n"
     ]
    },
    {
     "name": "stdout",
     "output_type": "stream",
     "text": [
      "gen_epoch_loss  20.987246322631837 15\n",
      "disc_epoch_loss 0.0030227558338083325 15\n",
      "Checkpoint saved successfully at epoch 15\n",
      "gen_epoch_loss  21.501977767944336 16\n",
      "disc_epoch_loss 0.0019053192296996713 16\n"
     ]
    },
    {
     "name": "stderr",
     "output_type": "stream",
     "text": [
      "/home/gin/Desktop/FINAL_PROJECT/Utils/Visualizer.py:27: RuntimeWarning: invalid value encountered in divide\n",
      "  f1s = 2 * precs * recs / (precs + recs)\n",
      "/home/gin/Desktop/FINAL_PROJECT/Utils/Visualizer.py:28: RuntimeWarning: invalid value encountered in divide\n",
      "  f2s = 5 * precs * recs / (4 * precs + recs)\n"
     ]
    },
    {
     "name": "stdout",
     "output_type": "stream",
     "text": [
      "gen_epoch_loss  21.39202163696289 17\n",
      "disc_epoch_loss 0.0027408183470834045 17\n"
     ]
    },
    {
     "name": "stderr",
     "output_type": "stream",
     "text": [
      "/home/gin/Desktop/FINAL_PROJECT/Utils/Visualizer.py:27: RuntimeWarning: invalid value encountered in divide\n",
      "  f1s = 2 * precs * recs / (precs + recs)\n",
      "/home/gin/Desktop/FINAL_PROJECT/Utils/Visualizer.py:28: RuntimeWarning: invalid value encountered in divide\n",
      "  f2s = 5 * precs * recs / (4 * precs + recs)\n"
     ]
    },
    {
     "name": "stdout",
     "output_type": "stream",
     "text": [
      "Checkpoint saved successfully at epoch 17\n",
      "gen_epoch_loss  19.837017517089844 18\n",
      "disc_epoch_loss 0.0026252169022336603 18\n",
      "Checkpoint saved successfully at epoch 18\n",
      "gen_epoch_loss  19.574044342041017 19\n",
      "disc_epoch_loss 0.0042285696463659405 19\n",
      "Checkpoint saved successfully at epoch 19\n",
      "gen_epoch_loss  19.279843635559082 20\n",
      "disc_epoch_loss 0.0029788030683994293 20\n",
      "Checkpoint saved successfully at epoch 20\n",
      "gen_epoch_loss  18.915312004089355 21\n",
      "disc_epoch_loss 0.0033590041508432477 21\n",
      "gen_epoch_loss  19.102222328186034 22\n",
      "disc_epoch_loss 0.0049141903221607205 22\n",
      "gen_epoch_loss  18.983191719055174 23\n",
      "disc_epoch_loss 0.0027478497661650183 23\n"
     ]
    },
    {
     "name": "stderr",
     "output_type": "stream",
     "text": [
      "/home/gin/Desktop/FINAL_PROJECT/Utils/Visualizer.py:27: RuntimeWarning: invalid value encountered in divide\n",
      "  f1s = 2 * precs * recs / (precs + recs)\n",
      "/home/gin/Desktop/FINAL_PROJECT/Utils/Visualizer.py:28: RuntimeWarning: invalid value encountered in divide\n",
      "  f2s = 5 * precs * recs / (4 * precs + recs)\n"
     ]
    },
    {
     "name": "stdout",
     "output_type": "stream",
     "text": [
      "gen_epoch_loss  19.087632369995116 24\n",
      "disc_epoch_loss 0.013219441473484039 24\n",
      "gen_epoch_loss  18.6480615234375 25\n",
      "disc_epoch_loss 0.0028113075345754623 25\n"
     ]
    },
    {
     "name": "stderr",
     "output_type": "stream",
     "text": [
      "/home/gin/Desktop/FINAL_PROJECT/Utils/Visualizer.py:27: RuntimeWarning: invalid value encountered in divide\n",
      "  f1s = 2 * precs * recs / (precs + recs)\n",
      "/home/gin/Desktop/FINAL_PROJECT/Utils/Visualizer.py:28: RuntimeWarning: invalid value encountered in divide\n",
      "  f2s = 5 * precs * recs / (4 * precs + recs)\n"
     ]
    },
    {
     "name": "stdout",
     "output_type": "stream",
     "text": [
      "gen_epoch_loss  18.299324569702147 26\n",
      "disc_epoch_loss 0.0025563705968670546 26\n"
     ]
    },
    {
     "name": "stderr",
     "output_type": "stream",
     "text": [
      "/home/gin/Desktop/FINAL_PROJECT/Utils/Visualizer.py:27: RuntimeWarning: invalid value encountered in divide\n",
      "  f1s = 2 * precs * recs / (precs + recs)\n",
      "/home/gin/Desktop/FINAL_PROJECT/Utils/Visualizer.py:28: RuntimeWarning: invalid value encountered in divide\n",
      "  f2s = 5 * precs * recs / (4 * precs + recs)\n"
     ]
    },
    {
     "name": "stdout",
     "output_type": "stream",
     "text": [
      "gen_epoch_loss  18.46497619628906 27\n",
      "disc_epoch_loss 0.002846537777222693 27\n",
      "gen_epoch_loss  18.38434898376465 28\n",
      "disc_epoch_loss 0.0032361285388469697 28\n",
      "gen_epoch_loss  18.092750968933107 29\n",
      "disc_epoch_loss 0.060796796530485156 29\n",
      "gen_epoch_loss  17.956438217163086 30\n",
      "disc_epoch_loss 0.09783897504210472 30\n"
     ]
    },
    {
     "name": "stderr",
     "output_type": "stream",
     "text": [
      "/home/gin/Desktop/FINAL_PROJECT/Utils/Visualizer.py:27: RuntimeWarning: invalid value encountered in divide\n",
      "  f1s = 2 * precs * recs / (precs + recs)\n",
      "/home/gin/Desktop/FINAL_PROJECT/Utils/Visualizer.py:28: RuntimeWarning: invalid value encountered in divide\n",
      "  f2s = 5 * precs * recs / (4 * precs + recs)\n"
     ]
    },
    {
     "name": "stdout",
     "output_type": "stream",
     "text": [
      "gen_epoch_loss  18.061433715820314 31\n",
      "disc_epoch_loss 0.1283028859272599 31\n",
      "gen_epoch_loss  17.86156883239746 32\n",
      "disc_epoch_loss 0.16340729758143424 32\n"
     ]
    },
    {
     "name": "stderr",
     "output_type": "stream",
     "text": [
      "/home/gin/Desktop/FINAL_PROJECT/Utils/Visualizer.py:27: RuntimeWarning: invalid value encountered in divide\n",
      "  f1s = 2 * precs * recs / (precs + recs)\n",
      "/home/gin/Desktop/FINAL_PROJECT/Utils/Visualizer.py:28: RuntimeWarning: invalid value encountered in divide\n",
      "  f2s = 5 * precs * recs / (4 * precs + recs)\n"
     ]
    },
    {
     "name": "stdout",
     "output_type": "stream",
     "text": [
      "gen_epoch_loss  17.31594066619873 33\n",
      "disc_epoch_loss 0.06476524829864502 33\n",
      "gen_epoch_loss  17.19795612335205 34\n",
      "disc_epoch_loss 0.09376115709543228 34\n"
     ]
    },
    {
     "name": "stderr",
     "output_type": "stream",
     "text": [
      "/home/gin/Desktop/FINAL_PROJECT/Utils/Visualizer.py:27: RuntimeWarning: invalid value encountered in divide\n",
      "  f1s = 2 * precs * recs / (precs + recs)\n",
      "/home/gin/Desktop/FINAL_PROJECT/Utils/Visualizer.py:28: RuntimeWarning: invalid value encountered in divide\n",
      "  f2s = 5 * precs * recs / (4 * precs + recs)\n"
     ]
    },
    {
     "name": "stdout",
     "output_type": "stream",
     "text": [
      "gen_epoch_loss  17.136154823303222 35\n",
      "disc_epoch_loss 0.40832079589366915 35\n",
      "gen_epoch_loss  17.018787994384766 36\n",
      "disc_epoch_loss 0.2121441799402237 36\n"
     ]
    },
    {
     "name": "stderr",
     "output_type": "stream",
     "text": [
      "/home/gin/Desktop/FINAL_PROJECT/Utils/Visualizer.py:27: RuntimeWarning: invalid value encountered in divide\n",
      "  f1s = 2 * precs * recs / (precs + recs)\n",
      "/home/gin/Desktop/FINAL_PROJECT/Utils/Visualizer.py:28: RuntimeWarning: invalid value encountered in divide\n",
      "  f2s = 5 * precs * recs / (4 * precs + recs)\n"
     ]
    },
    {
     "name": "stdout",
     "output_type": "stream",
     "text": [
      "gen_epoch_loss  16.96959213256836 37\n",
      "disc_epoch_loss 0.06324410192086362 37\n",
      "gen_epoch_loss  16.905912704467774 38\n",
      "disc_epoch_loss 0.007770131104625762 38\n",
      "gen_epoch_loss  17.125698738098144 39\n",
      "disc_epoch_loss 0.0021372765407431872 39\n",
      "gen_epoch_loss  16.845800476074217 40\n",
      "disc_epoch_loss 0.004765644579892978 40\n",
      "gen_epoch_loss  16.719614028930664 41\n",
      "disc_epoch_loss 0.0016530942637473344 41\n",
      "gen_epoch_loss  16.6521333694458 42\n",
      "disc_epoch_loss 0.0016185748297721147 42\n"
     ]
    },
    {
     "name": "stderr",
     "output_type": "stream",
     "text": [
      "/home/gin/Desktop/FINAL_PROJECT/Utils/Visualizer.py:27: RuntimeWarning: invalid value encountered in divide\n",
      "  f1s = 2 * precs * recs / (precs + recs)\n",
      "/home/gin/Desktop/FINAL_PROJECT/Utils/Visualizer.py:28: RuntimeWarning: invalid value encountered in divide\n",
      "  f2s = 5 * precs * recs / (4 * precs + recs)\n"
     ]
    },
    {
     "name": "stdout",
     "output_type": "stream",
     "text": [
      "gen_epoch_loss  16.345142784118654 43\n",
      "disc_epoch_loss 0.0017149793123826384 43\n",
      "gen_epoch_loss  16.228091316223143 44\n",
      "disc_epoch_loss 0.007816261670086533 44\n",
      "gen_epoch_loss  16.25219020843506 45\n",
      "disc_epoch_loss 0.003806525580585003 45\n"
     ]
    },
    {
     "name": "stderr",
     "output_type": "stream",
     "text": [
      "/home/gin/Desktop/FINAL_PROJECT/Utils/Visualizer.py:27: RuntimeWarning: invalid value encountered in divide\n",
      "  f1s = 2 * precs * recs / (precs + recs)\n",
      "/home/gin/Desktop/FINAL_PROJECT/Utils/Visualizer.py:28: RuntimeWarning: invalid value encountered in divide\n",
      "  f2s = 5 * precs * recs / (4 * precs + recs)\n"
     ]
    },
    {
     "name": "stdout",
     "output_type": "stream",
     "text": [
      "gen_epoch_loss  16.256076622009278 46\n",
      "disc_epoch_loss 0.0023186525469645856 46\n",
      "gen_epoch_loss  16.18362350463867 47\n",
      "disc_epoch_loss 0.001677432102151215 47\n",
      "gen_epoch_loss  16.324980316162108 48\n",
      "disc_epoch_loss 0.003848521737381816 48\n"
     ]
    },
    {
     "name": "stderr",
     "output_type": "stream",
     "text": [
      "/home/gin/Desktop/FINAL_PROJECT/Utils/Visualizer.py:27: RuntimeWarning: invalid value encountered in divide\n",
      "  f1s = 2 * precs * recs / (precs + recs)\n",
      "/home/gin/Desktop/FINAL_PROJECT/Utils/Visualizer.py:28: RuntimeWarning: invalid value encountered in divide\n",
      "  f2s = 5 * precs * recs / (4 * precs + recs)\n"
     ]
    },
    {
     "name": "stdout",
     "output_type": "stream",
     "text": [
      "gen_epoch_loss  16.269770545959474 49\n",
      "disc_epoch_loss 0.002583799913991243 49\n"
     ]
    },
    {
     "name": "stderr",
     "output_type": "stream",
     "text": [
      "/home/gin/Desktop/FINAL_PROJECT/Utils/Visualizer.py:27: RuntimeWarning: invalid value encountered in divide\n",
      "  f1s = 2 * precs * recs / (precs + recs)\n",
      "/home/gin/Desktop/FINAL_PROJECT/Utils/Visualizer.py:28: RuntimeWarning: invalid value encountered in divide\n",
      "  f2s = 5 * precs * recs / (4 * precs + recs)\n"
     ]
    },
    {
     "name": "stdout",
     "output_type": "stream",
     "text": [
      "gen_epoch_loss  15.980062980651855 50\n",
      "disc_epoch_loss 0.0027997900266200303 50\n"
     ]
    },
    {
     "name": "stderr",
     "output_type": "stream",
     "text": [
      "/home/gin/Desktop/FINAL_PROJECT/Utils/Visualizer.py:27: RuntimeWarning: invalid value encountered in divide\n",
      "  f1s = 2 * precs * recs / (precs + recs)\n",
      "/home/gin/Desktop/FINAL_PROJECT/Utils/Visualizer.py:28: RuntimeWarning: invalid value encountered in divide\n",
      "  f2s = 5 * precs * recs / (4 * precs + recs)\n"
     ]
    },
    {
     "name": "stdout",
     "output_type": "stream",
     "text": [
      "gen_epoch_loss  15.77246925354004 51\n",
      "disc_epoch_loss 0.0022690550098195673 51\n",
      "gen_epoch_loss  15.782924156188965 52\n",
      "disc_epoch_loss 0.04734999934211373 52\n",
      "gen_epoch_loss  15.529385871887207 53\n",
      "disc_epoch_loss 0.06150845963507891 53\n",
      "gen_epoch_loss  15.28141586303711 54\n",
      "disc_epoch_loss 0.016647461974062024 54\n"
     ]
    },
    {
     "name": "stderr",
     "output_type": "stream",
     "text": [
      "/home/gin/Desktop/FINAL_PROJECT/Utils/Visualizer.py:27: RuntimeWarning: invalid value encountered in divide\n",
      "  f1s = 2 * precs * recs / (precs + recs)\n",
      "/home/gin/Desktop/FINAL_PROJECT/Utils/Visualizer.py:28: RuntimeWarning: invalid value encountered in divide\n",
      "  f2s = 5 * precs * recs / (4 * precs + recs)\n"
     ]
    },
    {
     "name": "stdout",
     "output_type": "stream",
     "text": [
      "gen_epoch_loss  15.360466232299805 55\n",
      "disc_epoch_loss 0.0035924435034394263 55\n",
      "gen_epoch_loss  15.504103202819824 56\n",
      "disc_epoch_loss 0.0020178083050996064 56\n"
     ]
    },
    {
     "name": "stderr",
     "output_type": "stream",
     "text": [
      "/home/gin/Desktop/FINAL_PROJECT/Utils/Visualizer.py:27: RuntimeWarning: invalid value encountered in divide\n",
      "  f1s = 2 * precs * recs / (precs + recs)\n",
      "/home/gin/Desktop/FINAL_PROJECT/Utils/Visualizer.py:28: RuntimeWarning: invalid value encountered in divide\n",
      "  f2s = 5 * precs * recs / (4 * precs + recs)\n"
     ]
    },
    {
     "name": "stdout",
     "output_type": "stream",
     "text": [
      "gen_epoch_loss  15.576649055480956 57\n",
      "disc_epoch_loss 0.003364765979349613 57\n",
      "gen_epoch_loss  15.495495071411133 58\n",
      "disc_epoch_loss 0.002619638266041875 58\n"
     ]
    },
    {
     "name": "stderr",
     "output_type": "stream",
     "text": [
      "/home/gin/Desktop/FINAL_PROJECT/Utils/Visualizer.py:27: RuntimeWarning: invalid value encountered in divide\n",
      "  f1s = 2 * precs * recs / (precs + recs)\n",
      "/home/gin/Desktop/FINAL_PROJECT/Utils/Visualizer.py:28: RuntimeWarning: invalid value encountered in divide\n",
      "  f2s = 5 * precs * recs / (4 * precs + recs)\n"
     ]
    },
    {
     "name": "stdout",
     "output_type": "stream",
     "text": [
      "gen_epoch_loss  15.487689170837402 59\n",
      "disc_epoch_loss 0.002477291487157345 59\n"
     ]
    },
    {
     "name": "stderr",
     "output_type": "stream",
     "text": [
      "/home/gin/Desktop/FINAL_PROJECT/Utils/Visualizer.py:27: RuntimeWarning: invalid value encountered in divide\n",
      "  f1s = 2 * precs * recs / (precs + recs)\n",
      "/home/gin/Desktop/FINAL_PROJECT/Utils/Visualizer.py:28: RuntimeWarning: invalid value encountered in divide\n",
      "  f2s = 5 * precs * recs / (4 * precs + recs)\n"
     ]
    },
    {
     "name": "stdout",
     "output_type": "stream",
     "text": [
      "gen_epoch_loss  15.215679397583008 60\n",
      "disc_epoch_loss 0.0022176039684563874 60\n"
     ]
    },
    {
     "name": "stderr",
     "output_type": "stream",
     "text": [
      "/home/gin/Desktop/FINAL_PROJECT/Utils/Visualizer.py:27: RuntimeWarning: invalid value encountered in divide\n",
      "  f1s = 2 * precs * recs / (precs + recs)\n",
      "/home/gin/Desktop/FINAL_PROJECT/Utils/Visualizer.py:28: RuntimeWarning: invalid value encountered in divide\n",
      "  f2s = 5 * precs * recs / (4 * precs + recs)\n"
     ]
    },
    {
     "name": "stdout",
     "output_type": "stream",
     "text": [
      "gen_epoch_loss  15.471475715637206 61\n",
      "disc_epoch_loss 0.006491400832310319 61\n",
      "gen_epoch_loss  15.460417938232421 62\n",
      "disc_epoch_loss 0.0031646335404366256 62\n",
      "gen_epoch_loss  15.116877899169921 63\n",
      "disc_epoch_loss 0.0032729099877178668 63\n",
      "gen_epoch_loss  14.918905639648438 64\n",
      "disc_epoch_loss 0.004255303665995597 64\n"
     ]
    },
    {
     "name": "stderr",
     "output_type": "stream",
     "text": [
      "/home/gin/Desktop/FINAL_PROJECT/Utils/Visualizer.py:27: RuntimeWarning: invalid value encountered in divide\n",
      "  f1s = 2 * precs * recs / (precs + recs)\n",
      "/home/gin/Desktop/FINAL_PROJECT/Utils/Visualizer.py:28: RuntimeWarning: invalid value encountered in divide\n",
      "  f2s = 5 * precs * recs / (4 * precs + recs)\n"
     ]
    },
    {
     "name": "stdout",
     "output_type": "stream",
     "text": [
      "gen_epoch_loss  14.75136661529541 65\n",
      "disc_epoch_loss 0.0039536993810907 65\n",
      "gen_epoch_loss  14.686169357299805 66\n",
      "disc_epoch_loss 0.0030162928067147734 66\n",
      "gen_epoch_loss  14.558155784606933 67\n",
      "disc_epoch_loss 0.0023283637315034867 67\n",
      "gen_epoch_loss  14.601580467224121 68\n",
      "disc_epoch_loss 0.007721042390912771 68\n"
     ]
    },
    {
     "name": "stderr",
     "output_type": "stream",
     "text": [
      "/home/gin/Desktop/FINAL_PROJECT/Utils/Visualizer.py:27: RuntimeWarning: invalid value encountered in divide\n",
      "  f1s = 2 * precs * recs / (precs + recs)\n",
      "/home/gin/Desktop/FINAL_PROJECT/Utils/Visualizer.py:28: RuntimeWarning: invalid value encountered in divide\n",
      "  f2s = 5 * precs * recs / (4 * precs + recs)\n"
     ]
    },
    {
     "name": "stdout",
     "output_type": "stream",
     "text": [
      "gen_epoch_loss  14.72019271850586 69\n",
      "disc_epoch_loss 0.0031273289769887924 69\n",
      "gen_epoch_loss  14.700475273132325 70\n",
      "disc_epoch_loss 0.0035461555421352387 70\n",
      "gen_epoch_loss  14.755850028991699 71\n",
      "disc_epoch_loss 0.005493063274770975 71\n",
      "gen_epoch_loss  14.590192604064942 72\n",
      "disc_epoch_loss 0.00474511525593698 72\n"
     ]
    },
    {
     "name": "stderr",
     "output_type": "stream",
     "text": [
      "/home/gin/Desktop/FINAL_PROJECT/Utils/Visualizer.py:27: RuntimeWarning: invalid value encountered in divide\n",
      "  f1s = 2 * precs * recs / (precs + recs)\n",
      "/home/gin/Desktop/FINAL_PROJECT/Utils/Visualizer.py:28: RuntimeWarning: invalid value encountered in divide\n",
      "  f2s = 5 * precs * recs / (4 * precs + recs)\n"
     ]
    },
    {
     "name": "stdout",
     "output_type": "stream",
     "text": [
      "gen_epoch_loss  14.46259376525879 73\n",
      "disc_epoch_loss 0.00507178399246186 73\n",
      "gen_epoch_loss  14.441338539123535 74\n",
      "disc_epoch_loss 0.010438181045465171 74\n"
     ]
    },
    {
     "name": "stderr",
     "output_type": "stream",
     "text": [
      "/home/gin/Desktop/FINAL_PROJECT/Utils/Visualizer.py:27: RuntimeWarning: invalid value encountered in divide\n",
      "  f1s = 2 * precs * recs / (precs + recs)\n",
      "/home/gin/Desktop/FINAL_PROJECT/Utils/Visualizer.py:28: RuntimeWarning: invalid value encountered in divide\n",
      "  f2s = 5 * precs * recs / (4 * precs + recs)\n"
     ]
    },
    {
     "name": "stdout",
     "output_type": "stream",
     "text": [
      "gen_epoch_loss  14.065341415405273 75\n",
      "disc_epoch_loss 0.004279964924789965 75\n",
      "gen_epoch_loss  14.072332496643066 76\n",
      "disc_epoch_loss 0.0031264799367636442 76\n",
      "gen_epoch_loss  14.27031967163086 77\n",
      "disc_epoch_loss 0.0038517233449965717 77\n",
      "gen_epoch_loss  14.232618560791016 78\n",
      "disc_epoch_loss 0.0022569379047490657 78\n",
      "gen_epoch_loss  14.168903274536133 79\n",
      "disc_epoch_loss 0.002384093631990254 79\n",
      "gen_epoch_loss  14.048793830871581 80\n",
      "disc_epoch_loss 0.0020707057043910025 80\n",
      "gen_epoch_loss  14.008590812683105 81\n",
      "disc_epoch_loss 0.001996588627807796 81\n",
      "gen_epoch_loss  14.158706741333008 82\n",
      "disc_epoch_loss 0.0014884120970964432 82\n"
     ]
    },
    {
     "name": "stderr",
     "output_type": "stream",
     "text": [
      "/home/gin/Desktop/FINAL_PROJECT/Utils/Visualizer.py:27: RuntimeWarning: invalid value encountered in divide\n",
      "  f1s = 2 * precs * recs / (precs + recs)\n",
      "/home/gin/Desktop/FINAL_PROJECT/Utils/Visualizer.py:28: RuntimeWarning: invalid value encountered in divide\n",
      "  f2s = 5 * precs * recs / (4 * precs + recs)\n"
     ]
    },
    {
     "name": "stdout",
     "output_type": "stream",
     "text": [
      "gen_epoch_loss  14.102318229675292 83\n",
      "disc_epoch_loss 0.003951595469843596 83\n",
      "gen_epoch_loss  13.971325073242188 84\n",
      "disc_epoch_loss 0.002206775452941656 84\n",
      "gen_epoch_loss  13.946921653747559 85\n",
      "disc_epoch_loss 0.0017457206966355443 85\n",
      "gen_epoch_loss  13.783910369873047 86\n",
      "disc_epoch_loss 0.0025936706457287072 86\n",
      "gen_epoch_loss  13.769114532470702 87\n",
      "disc_epoch_loss 0.0023855244764126836 87\n",
      "gen_epoch_loss  13.69939609527588 88\n",
      "disc_epoch_loss 0.0018026968836784363 88\n",
      "gen_epoch_loss  13.810098304748536 89\n",
      "disc_epoch_loss 0.0016964152758009732 89\n",
      "gen_epoch_loss  13.624479675292969 90\n",
      "disc_epoch_loss 0.001916382797062397 90\n",
      "gen_epoch_loss  13.622691345214843 91\n",
      "disc_epoch_loss 0.00181143389781937 91\n",
      "gen_epoch_loss  13.608789176940919 92\n",
      "disc_epoch_loss 0.0016609772387892008 92\n",
      "gen_epoch_loss  13.574491500854492 93\n",
      "disc_epoch_loss 0.0025987071369308976 93\n",
      "gen_epoch_loss  13.784532089233398 94\n",
      "disc_epoch_loss 0.0017090807086788118 94\n"
     ]
    },
    {
     "name": "stderr",
     "output_type": "stream",
     "text": [
      "/home/gin/Desktop/FINAL_PROJECT/Utils/Visualizer.py:27: RuntimeWarning: invalid value encountered in divide\n",
      "  f1s = 2 * precs * recs / (precs + recs)\n",
      "/home/gin/Desktop/FINAL_PROJECT/Utils/Visualizer.py:28: RuntimeWarning: invalid value encountered in divide\n",
      "  f2s = 5 * precs * recs / (4 * precs + recs)\n"
     ]
    },
    {
     "name": "stdout",
     "output_type": "stream",
     "text": [
      "gen_epoch_loss  13.76857276916504 95\n",
      "disc_epoch_loss 0.00214541251771152 95\n",
      "gen_epoch_loss  13.540781478881836 96\n",
      "disc_epoch_loss 0.0016313957097008824 96\n",
      "gen_epoch_loss  13.807920875549316 97\n",
      "disc_epoch_loss 0.0013971035601571201 97\n",
      "gen_epoch_loss  13.710579414367675 98\n",
      "disc_epoch_loss 0.0011355740972794593 98\n"
     ]
    },
    {
     "name": "stderr",
     "output_type": "stream",
     "text": [
      "/home/gin/Desktop/FINAL_PROJECT/Utils/Visualizer.py:27: RuntimeWarning: invalid value encountered in divide\n",
      "  f1s = 2 * precs * recs / (precs + recs)\n",
      "/home/gin/Desktop/FINAL_PROJECT/Utils/Visualizer.py:28: RuntimeWarning: invalid value encountered in divide\n",
      "  f2s = 5 * precs * recs / (4 * precs + recs)\n"
     ]
    },
    {
     "name": "stdout",
     "output_type": "stream",
     "text": [
      "gen_epoch_loss  13.699768867492676 99\n",
      "disc_epoch_loss 0.0015072640008293092 99\n"
     ]
    },
    {
     "name": "stderr",
     "output_type": "stream",
     "text": [
      "/home/gin/Desktop/FINAL_PROJECT/Utils/Visualizer.py:27: RuntimeWarning: invalid value encountered in divide\n",
      "  f1s = 2 * precs * recs / (precs + recs)\n",
      "/home/gin/Desktop/FINAL_PROJECT/Utils/Visualizer.py:28: RuntimeWarning: invalid value encountered in divide\n",
      "  f2s = 5 * precs * recs / (4 * precs + recs)\n"
     ]
    },
    {
     "name": "stdout",
     "output_type": "stream",
     "text": [
      "gen_epoch_loss  13.690176200866699 100\n",
      "disc_epoch_loss 0.0022162595530971886 100\n"
     ]
    },
    {
     "name": "stderr",
     "output_type": "stream",
     "text": [
      "/home/gin/Desktop/FINAL_PROJECT/Utils/Visualizer.py:27: RuntimeWarning: invalid value encountered in divide\n",
      "  f1s = 2 * precs * recs / (precs + recs)\n",
      "/home/gin/Desktop/FINAL_PROJECT/Utils/Visualizer.py:28: RuntimeWarning: invalid value encountered in divide\n",
      "  f2s = 5 * precs * recs / (4 * precs + recs)\n"
     ]
    },
    {
     "name": "stdout",
     "output_type": "stream",
     "text": [
      "Checkpoint saved successfully at epoch 100\n",
      "gen_epoch_loss  13.63159999847412 101\n",
      "disc_epoch_loss 0.0021623514452949167 101\n",
      "gen_epoch_loss  13.620598335266113 102\n",
      "disc_epoch_loss 0.004638756746426225 102\n",
      "gen_epoch_loss  13.593823623657226 103\n",
      "disc_epoch_loss 0.005443770943675191 103\n"
     ]
    },
    {
     "name": "stderr",
     "output_type": "stream",
     "text": [
      "/home/gin/Desktop/FINAL_PROJECT/Utils/Visualizer.py:27: RuntimeWarning: invalid value encountered in divide\n",
      "  f1s = 2 * precs * recs / (precs + recs)\n",
      "/home/gin/Desktop/FINAL_PROJECT/Utils/Visualizer.py:28: RuntimeWarning: invalid value encountered in divide\n",
      "  f2s = 5 * precs * recs / (4 * precs + recs)\n"
     ]
    },
    {
     "name": "stdout",
     "output_type": "stream",
     "text": [
      "gen_epoch_loss  13.45423942565918 104\n",
      "disc_epoch_loss 0.0038527686009183527 104\n",
      "gen_epoch_loss  13.543609504699708 105\n",
      "disc_epoch_loss 0.0024245798436459153 105\n",
      "gen_epoch_loss  13.382316856384277 106\n",
      "disc_epoch_loss 0.0009463187912479042 106\n",
      "gen_epoch_loss  13.401108474731446 107\n",
      "disc_epoch_loss 0.0007547845924273134 107\n",
      "gen_epoch_loss  13.418204803466796 108\n",
      "disc_epoch_loss 0.0008665304211899638 108\n"
     ]
    },
    {
     "name": "stderr",
     "output_type": "stream",
     "text": [
      "/home/gin/Desktop/FINAL_PROJECT/Utils/Visualizer.py:27: RuntimeWarning: invalid value encountered in divide\n",
      "  f1s = 2 * precs * recs / (precs + recs)\n",
      "/home/gin/Desktop/FINAL_PROJECT/Utils/Visualizer.py:28: RuntimeWarning: invalid value encountered in divide\n",
      "  f2s = 5 * precs * recs / (4 * precs + recs)\n"
     ]
    },
    {
     "name": "stdout",
     "output_type": "stream",
     "text": [
      "gen_epoch_loss  13.169730606079101 109\n",
      "disc_epoch_loss 0.000963637328823097 109\n"
     ]
    },
    {
     "name": "stderr",
     "output_type": "stream",
     "text": [
      "/home/gin/Desktop/FINAL_PROJECT/Utils/Visualizer.py:27: RuntimeWarning: invalid value encountered in divide\n",
      "  f1s = 2 * precs * recs / (precs + recs)\n",
      "/home/gin/Desktop/FINAL_PROJECT/Utils/Visualizer.py:28: RuntimeWarning: invalid value encountered in divide\n",
      "  f2s = 5 * precs * recs / (4 * precs + recs)\n"
     ]
    },
    {
     "name": "stdout",
     "output_type": "stream",
     "text": [
      "gen_epoch_loss  13.199210815429687 110\n",
      "disc_epoch_loss 0.0007750148943159729 110\n",
      "gen_epoch_loss  13.234022216796875 111\n",
      "disc_epoch_loss 0.0007850195141509176 111\n",
      "gen_epoch_loss  13.183616752624511 112\n",
      "disc_epoch_loss 0.000674805361777544 112\n",
      "gen_epoch_loss  13.274905281066895 113\n",
      "disc_epoch_loss 0.0006563805101905019 113\n",
      "gen_epoch_loss  13.138380508422852 114\n",
      "disc_epoch_loss 0.0010784936300478876 114\n",
      "gen_epoch_loss  13.175171546936035 115\n",
      "disc_epoch_loss 0.0007967044739052654 115\n",
      "gen_epoch_loss  13.160098876953125 116\n",
      "disc_epoch_loss 0.0006977715087123215 116\n",
      "gen_epoch_loss  13.082220306396485 117\n",
      "disc_epoch_loss 0.0007045275514246896 117\n"
     ]
    },
    {
     "name": "stderr",
     "output_type": "stream",
     "text": [
      "/home/gin/Desktop/FINAL_PROJECT/Utils/Visualizer.py:27: RuntimeWarning: invalid value encountered in divide\n",
      "  f1s = 2 * precs * recs / (precs + recs)\n",
      "/home/gin/Desktop/FINAL_PROJECT/Utils/Visualizer.py:28: RuntimeWarning: invalid value encountered in divide\n",
      "  f2s = 5 * precs * recs / (4 * precs + recs)\n"
     ]
    },
    {
     "name": "stdout",
     "output_type": "stream",
     "text": [
      "gen_epoch_loss  13.403856353759766 118\n",
      "disc_epoch_loss 0.0015486959437839686 118\n",
      "gen_epoch_loss  13.107250900268555 119\n",
      "disc_epoch_loss 0.0009275993640767411 119\n",
      "gen_epoch_loss  13.147206192016602 120\n",
      "disc_epoch_loss 0.0014274724549613893 120\n",
      "gen_epoch_loss  13.296032600402832 121\n",
      "disc_epoch_loss 0.0011712603532942011 121\n",
      "gen_epoch_loss  13.071932601928712 122\n",
      "disc_epoch_loss 0.0009979292482603342 122\n"
     ]
    },
    {
     "name": "stderr",
     "output_type": "stream",
     "text": [
      "/home/gin/Desktop/FINAL_PROJECT/Utils/Visualizer.py:27: RuntimeWarning: invalid value encountered in divide\n",
      "  f1s = 2 * precs * recs / (precs + recs)\n",
      "/home/gin/Desktop/FINAL_PROJECT/Utils/Visualizer.py:28: RuntimeWarning: invalid value encountered in divide\n",
      "  f2s = 5 * precs * recs / (4 * precs + recs)\n"
     ]
    },
    {
     "name": "stdout",
     "output_type": "stream",
     "text": [
      "gen_epoch_loss  13.108393669128418 123\n",
      "disc_epoch_loss 0.0022431126108858734 123\n"
     ]
    },
    {
     "name": "stderr",
     "output_type": "stream",
     "text": [
      "/home/gin/Desktop/FINAL_PROJECT/Utils/Visualizer.py:27: RuntimeWarning: invalid value encountered in divide\n",
      "  f1s = 2 * precs * recs / (precs + recs)\n",
      "/home/gin/Desktop/FINAL_PROJECT/Utils/Visualizer.py:28: RuntimeWarning: invalid value encountered in divide\n",
      "  f2s = 5 * precs * recs / (4 * precs + recs)\n"
     ]
    },
    {
     "name": "stdout",
     "output_type": "stream",
     "text": [
      "gen_epoch_loss  12.989436073303223 124\n",
      "disc_epoch_loss 0.0008686838141875341 124\n",
      "gen_epoch_loss  12.981194953918457 125\n",
      "disc_epoch_loss 0.0006186743787839077 125\n",
      "gen_epoch_loss  12.908939476013183 126\n",
      "disc_epoch_loss 0.0005428355315234512 126\n",
      "gen_epoch_loss  12.954653434753418 127\n",
      "disc_epoch_loss 0.0005101809551706538 127\n",
      "gen_epoch_loss  12.963076400756837 128\n",
      "disc_epoch_loss 0.000716468368191272 128\n",
      "gen_epoch_loss  12.846279754638672 129\n",
      "disc_epoch_loss 0.000541927627637051 129\n",
      "gen_epoch_loss  12.83649200439453 130\n",
      "disc_epoch_loss 0.000646352176554501 130\n",
      "gen_epoch_loss  12.885097389221192 131\n",
      "disc_epoch_loss 0.0004206375207286328 131\n",
      "gen_epoch_loss  12.86530590057373 132\n",
      "disc_epoch_loss 0.0004998833895660937 132\n",
      "gen_epoch_loss  12.848147315979004 133\n",
      "disc_epoch_loss 0.000603696896287147 133\n",
      "gen_epoch_loss  12.81137004852295 134\n",
      "disc_epoch_loss 0.0006034154124790802 134\n",
      "gen_epoch_loss  12.828976211547852 135\n",
      "disc_epoch_loss 0.0005523323302622884 135\n",
      "gen_epoch_loss  12.708650398254395 136\n",
      "disc_epoch_loss 0.0005832087877206504 136\n",
      "gen_epoch_loss  12.790626678466797 137\n",
      "disc_epoch_loss 0.00045754773484077307 137\n",
      "gen_epoch_loss  12.88085277557373 138\n",
      "disc_epoch_loss 0.00044896183419041336 138\n",
      "gen_epoch_loss  12.783598670959472 139\n",
      "disc_epoch_loss 0.0005896101135294884 139\n",
      "gen_epoch_loss  12.790768814086913 140\n",
      "disc_epoch_loss 0.00046968829585239294 140\n",
      "gen_epoch_loss  12.770405807495116 141\n",
      "disc_epoch_loss 0.00041121334041235966 141\n",
      "gen_epoch_loss  12.689962692260742 142\n",
      "disc_epoch_loss 0.00048643757647369055 142\n",
      "gen_epoch_loss  12.611087455749512 143\n",
      "disc_epoch_loss 0.0005013720481656491 143\n",
      "gen_epoch_loss  12.774838027954102 144\n",
      "disc_epoch_loss 0.00035517501295544206 144\n",
      "gen_epoch_loss  12.712748947143554 145\n",
      "disc_epoch_loss 0.0013039730227319523 145\n",
      "gen_epoch_loss  12.670356826782227 146\n",
      "disc_epoch_loss 0.0007667044139816426 146\n",
      "gen_epoch_loss  12.816997146606445 147\n",
      "disc_epoch_loss 0.0006378622149350122 147\n",
      "gen_epoch_loss  12.863434791564941 148\n",
      "disc_epoch_loss 0.0005076446366729214 148\n",
      "gen_epoch_loss  12.697195663452149 149\n",
      "disc_epoch_loss 0.0003753815614618361 149\n"
     ]
    },
    {
     "name": "stderr",
     "output_type": "stream",
     "text": [
      "/home/gin/Desktop/FINAL_PROJECT/Utils/Visualizer.py:27: RuntimeWarning: invalid value encountered in divide\n",
      "  f1s = 2 * precs * recs / (precs + recs)\n",
      "/home/gin/Desktop/FINAL_PROJECT/Utils/Visualizer.py:28: RuntimeWarning: invalid value encountered in divide\n",
      "  f2s = 5 * precs * recs / (4 * precs + recs)\n"
     ]
    },
    {
     "name": "stdout",
     "output_type": "stream",
     "text": [
      "gen_epoch_loss  12.776689529418945 150\n",
      "disc_epoch_loss 0.00041415373096242547 150\n",
      "gen_epoch_loss  12.739752197265625 151\n",
      "disc_epoch_loss 0.0004959637136198581 151\n",
      "gen_epoch_loss  12.71628391265869 152\n",
      "disc_epoch_loss 0.0004235260066343471 152\n",
      "gen_epoch_loss  12.826670227050782 153\n",
      "disc_epoch_loss 0.0005290362468804233 153\n",
      "gen_epoch_loss  12.67403663635254 154\n",
      "disc_epoch_loss 0.0004020584883983247 154\n",
      "gen_epoch_loss  12.719599876403809 155\n",
      "disc_epoch_loss 0.00047089786181459204 155\n",
      "gen_epoch_loss  12.646496963500976 156\n",
      "disc_epoch_loss 0.00032197357388213276 156\n",
      "gen_epoch_loss  12.462911224365234 157\n",
      "disc_epoch_loss 0.00034375599381746724 157\n",
      "gen_epoch_loss  12.43675998687744 158\n",
      "disc_epoch_loss 0.0008932507655117661 158\n",
      "gen_epoch_loss  12.469428024291993 159\n",
      "disc_epoch_loss 0.00048136922297999264 159\n",
      "gen_epoch_loss  12.511443214416504 160\n",
      "disc_epoch_loss 0.00032766658230684695 160\n",
      "gen_epoch_loss  12.509820213317871 161\n",
      "disc_epoch_loss 0.0003234853138565086 161\n"
     ]
    },
    {
     "name": "stderr",
     "output_type": "stream",
     "text": [
      "/home/gin/Desktop/FINAL_PROJECT/Utils/Visualizer.py:27: RuntimeWarning: invalid value encountered in divide\n",
      "  f1s = 2 * precs * recs / (precs + recs)\n",
      "/home/gin/Desktop/FINAL_PROJECT/Utils/Visualizer.py:28: RuntimeWarning: invalid value encountered in divide\n",
      "  f2s = 5 * precs * recs / (4 * precs + recs)\n"
     ]
    },
    {
     "name": "stdout",
     "output_type": "stream",
     "text": [
      "gen_epoch_loss  12.683015213012695 162\n",
      "disc_epoch_loss 0.0012008943583350629 162\n",
      "gen_epoch_loss  12.617605247497558 163\n",
      "disc_epoch_loss 0.0006258710721158422 163\n",
      "gen_epoch_loss  12.461926078796386 164\n",
      "disc_epoch_loss 0.000345050262985751 164\n",
      "gen_epoch_loss  12.473141174316407 165\n",
      "disc_epoch_loss 0.00031086159287951887 165\n",
      "gen_epoch_loss  12.480630378723145 166\n",
      "disc_epoch_loss 0.00038398007687646897 166\n",
      "gen_epoch_loss  12.390374069213868 167\n",
      "disc_epoch_loss 0.00026774883503094315 167\n",
      "gen_epoch_loss  12.26072380065918 168\n",
      "disc_epoch_loss 0.0004040020040702075 168\n",
      "gen_epoch_loss  12.33888282775879 169\n",
      "disc_epoch_loss 0.00047999476955737916 169\n",
      "gen_epoch_loss  12.263974914550781 170\n",
      "disc_epoch_loss 0.0004018512376933359 170\n",
      "gen_epoch_loss  12.239791374206543 171\n",
      "disc_epoch_loss 0.0003400992348906584 171\n",
      "gen_epoch_loss  12.2400675201416 172\n",
      "disc_epoch_loss 0.0002983079629484564 172\n",
      "gen_epoch_loss  12.30833381652832 173\n",
      "disc_epoch_loss 0.00024013926537008956 173\n",
      "gen_epoch_loss  12.301531791687012 174\n",
      "disc_epoch_loss 0.00037366394506534563 174\n",
      "gen_epoch_loss  12.197240676879883 175\n",
      "disc_epoch_loss 0.0003596971376100555 175\n",
      "gen_epoch_loss  12.29947738647461 176\n",
      "disc_epoch_loss 0.000348781631764723 176\n",
      "gen_epoch_loss  12.30673755645752 177\n",
      "disc_epoch_loss 0.0003156664382549934 177\n",
      "gen_epoch_loss  12.132285118103027 178\n",
      "disc_epoch_loss 0.0002590211175265722 178\n",
      "gen_epoch_loss  12.219590072631837 179\n",
      "disc_epoch_loss 0.0002945049630943686 179\n",
      "gen_epoch_loss  12.348935317993163 180\n",
      "disc_epoch_loss 0.00039542142243590204 180\n",
      "gen_epoch_loss  12.213521118164062 181\n",
      "disc_epoch_loss 0.0002686627145158127 181\n",
      "gen_epoch_loss  12.134464111328125 182\n",
      "disc_epoch_loss 0.00025036390841705726 182\n",
      "gen_epoch_loss  12.141693687438964 183\n",
      "disc_epoch_loss 0.0002614473781432025 183\n",
      "gen_epoch_loss  12.09608184814453 184\n",
      "disc_epoch_loss 0.0004734396480489522 184\n",
      "gen_epoch_loss  12.109510002136231 185\n",
      "disc_epoch_loss 0.00029940561391413213 185\n",
      "gen_epoch_loss  12.124333877563476 186\n",
      "disc_epoch_loss 0.000271122339181602 186\n",
      "gen_epoch_loss  12.25615177154541 187\n",
      "disc_epoch_loss 0.0002385005954420194 187\n",
      "gen_epoch_loss  12.304843559265137 188\n",
      "disc_epoch_loss 0.0002149556952645071 188\n",
      "gen_epoch_loss  12.211327285766602 189\n",
      "disc_epoch_loss 0.0004392210370860994 189\n",
      "gen_epoch_loss  12.211450042724609 190\n",
      "disc_epoch_loss 0.0002690563880605623 190\n",
      "gen_epoch_loss  12.0657568359375 191\n",
      "disc_epoch_loss 0.0002763172832783312 191\n",
      "gen_epoch_loss  12.176247444152832 192\n",
      "disc_epoch_loss 0.00024683187308255583 192\n",
      "gen_epoch_loss  12.079576606750487 193\n",
      "disc_epoch_loss 0.0002439838883583434 193\n",
      "gen_epoch_loss  12.06735408782959 194\n",
      "disc_epoch_loss 0.00021692416863515972 194\n",
      "gen_epoch_loss  12.089918365478516 195\n",
      "disc_epoch_loss 0.00021970977395540102 195\n"
     ]
    },
    {
     "name": "stderr",
     "output_type": "stream",
     "text": [
      "/home/gin/Desktop/FINAL_PROJECT/Utils/Visualizer.py:27: RuntimeWarning: invalid value encountered in divide\n",
      "  f1s = 2 * precs * recs / (precs + recs)\n",
      "/home/gin/Desktop/FINAL_PROJECT/Utils/Visualizer.py:28: RuntimeWarning: invalid value encountered in divide\n",
      "  f2s = 5 * precs * recs / (4 * precs + recs)\n"
     ]
    },
    {
     "name": "stdout",
     "output_type": "stream",
     "text": [
      "gen_epoch_loss  12.148544883728027 196\n",
      "disc_epoch_loss 0.0003912281393422745 196\n",
      "gen_epoch_loss  12.011339111328125 197\n",
      "disc_epoch_loss 0.0002706677315291017 197\n",
      "gen_epoch_loss  12.01106243133545 198\n",
      "disc_epoch_loss 0.00021155835362151264 198\n",
      "gen_epoch_loss  12.007642135620117 199\n",
      "disc_epoch_loss 0.00022631119718425908 199\n",
      "gen_epoch_loss  12.034973106384278 200\n",
      "disc_epoch_loss 0.00025720194636960516 200\n",
      "Checkpoint saved successfully at epoch 200\n",
      "gen_epoch_loss  12.023688774108887 201\n",
      "disc_epoch_loss 0.00024769731680862606 201\n",
      "gen_epoch_loss  12.067239570617676 202\n",
      "disc_epoch_loss 0.0002235382098297123 202\n",
      "gen_epoch_loss  12.177381172180176 203\n",
      "disc_epoch_loss 0.0001930086885113269 203\n",
      "gen_epoch_loss  12.096498985290527 204\n",
      "disc_epoch_loss 0.00030258587474236265 204\n",
      "gen_epoch_loss  12.17984245300293 205\n",
      "disc_epoch_loss 0.00023953515352332033 205\n",
      "gen_epoch_loss  12.128471832275391 206\n",
      "disc_epoch_loss 0.00020230199341312983 206\n",
      "gen_epoch_loss  12.115479469299316 207\n",
      "disc_epoch_loss 0.0002254538203123957 207\n",
      "gen_epoch_loss  12.121902618408203 208\n",
      "disc_epoch_loss 0.00019308984978124499 208\n",
      "gen_epoch_loss  12.017059478759766 209\n",
      "disc_epoch_loss 0.00023900647764094174 209\n",
      "gen_epoch_loss  12.006111907958985 210\n",
      "disc_epoch_loss 0.00041530901289661416 210\n"
     ]
    },
    {
     "name": "stderr",
     "output_type": "stream",
     "text": [
      "/home/gin/Desktop/FINAL_PROJECT/Utils/Visualizer.py:27: RuntimeWarning: invalid value encountered in divide\n",
      "  f1s = 2 * precs * recs / (precs + recs)\n",
      "/home/gin/Desktop/FINAL_PROJECT/Utils/Visualizer.py:28: RuntimeWarning: invalid value encountered in divide\n",
      "  f2s = 5 * precs * recs / (4 * precs + recs)\n"
     ]
    },
    {
     "name": "stdout",
     "output_type": "stream",
     "text": [
      "gen_epoch_loss  12.194491004943847 211\n",
      "disc_epoch_loss 0.0002670891850721091 211\n",
      "gen_epoch_loss  12.050424690246581 212\n",
      "disc_epoch_loss 0.00019645417254650965 212\n",
      "gen_epoch_loss  12.020571594238282 213\n",
      "disc_epoch_loss 0.00019940539787057787 213\n",
      "gen_epoch_loss  12.147328414916991 214\n",
      "disc_epoch_loss 0.00019773046864429489 214\n",
      "gen_epoch_loss  12.000447959899903 215\n",
      "disc_epoch_loss 0.0001940899807959795 215\n",
      "gen_epoch_loss  11.972075462341309 216\n",
      "disc_epoch_loss 0.00018264949118020014 216\n",
      "gen_epoch_loss  11.939528350830079 217\n",
      "disc_epoch_loss 0.0003253747205599211 217\n",
      "gen_epoch_loss  11.881422309875488 218\n",
      "disc_epoch_loss 0.00018307030011783355 218\n",
      "gen_epoch_loss  11.835510139465333 219\n",
      "disc_epoch_loss 0.00020510772563284263 219\n",
      "gen_epoch_loss  11.794949035644532 220\n",
      "disc_epoch_loss 0.00019378968223463745 220\n",
      "gen_epoch_loss  11.926702728271485 221\n",
      "disc_epoch_loss 0.00022224565633223393 221\n",
      "gen_epoch_loss  11.868462677001952 222\n",
      "disc_epoch_loss 0.00021292086166795342 222\n",
      "gen_epoch_loss  11.87129451751709 223\n",
      "disc_epoch_loss 0.00016019977076211944 223\n",
      "gen_epoch_loss  11.880203399658203 224\n",
      "disc_epoch_loss 0.00015735008113551885 224\n",
      "gen_epoch_loss  11.916219520568848 225\n",
      "disc_epoch_loss 0.00023240579292178155 225\n"
     ]
    },
    {
     "name": "stderr",
     "output_type": "stream",
     "text": [
      "/home/gin/Desktop/FINAL_PROJECT/Utils/Visualizer.py:27: RuntimeWarning: invalid value encountered in divide\n",
      "  f1s = 2 * precs * recs / (precs + recs)\n",
      "/home/gin/Desktop/FINAL_PROJECT/Utils/Visualizer.py:28: RuntimeWarning: invalid value encountered in divide\n",
      "  f2s = 5 * precs * recs / (4 * precs + recs)\n"
     ]
    },
    {
     "name": "stdout",
     "output_type": "stream",
     "text": [
      "gen_epoch_loss  11.880864181518554 226\n",
      "disc_epoch_loss 0.0002442246509599499 226\n",
      "gen_epoch_loss  11.917479667663574 227\n",
      "disc_epoch_loss 0.0001780820090789348 227\n",
      "gen_epoch_loss  11.878426780700684 228\n",
      "disc_epoch_loss 0.00016609460188192317 228\n",
      "gen_epoch_loss  11.853156585693359 229\n",
      "disc_epoch_loss 0.00015346859552664682 229\n",
      "gen_epoch_loss  11.87960693359375 230\n",
      "disc_epoch_loss 0.00021038287290139123 230\n",
      "gen_epoch_loss  11.872538604736327 231\n",
      "disc_epoch_loss 0.0001644182624295354 231\n",
      "gen_epoch_loss  11.798049201965332 232\n",
      "disc_epoch_loss 0.0001630619702336844 232\n",
      "gen_epoch_loss  11.767266883850098 233\n",
      "disc_epoch_loss 0.00020200849867251235 233\n",
      "gen_epoch_loss  11.8216748046875 234\n",
      "disc_epoch_loss 0.0001785106473835185 234\n",
      "gen_epoch_loss  11.805735626220702 235\n",
      "disc_epoch_loss 0.0001609243820712436 235\n",
      "gen_epoch_loss  11.817921180725097 236\n",
      "disc_epoch_loss 0.0001649425781215541 236\n",
      "gen_epoch_loss  11.87163501739502 237\n",
      "disc_epoch_loss 0.00018822357276803813 237\n",
      "gen_epoch_loss  11.855363311767578 238\n",
      "disc_epoch_loss 0.00017355047370074317 238\n",
      "gen_epoch_loss  11.791908226013184 239\n",
      "disc_epoch_loss 0.00015345204068580642 239\n",
      "gen_epoch_loss  11.816656799316407 240\n",
      "disc_epoch_loss 0.00013878835328796414 240\n",
      "gen_epoch_loss  11.842356033325196 241\n",
      "disc_epoch_loss 0.0001529247281723656 241\n",
      "gen_epoch_loss  11.840680274963379 242\n",
      "disc_epoch_loss 0.0001331179183034692 242\n",
      "gen_epoch_loss  11.755567779541016 243\n",
      "disc_epoch_loss 0.00013655727714649403 243\n",
      "gen_epoch_loss  11.776959381103516 244\n",
      "disc_epoch_loss 0.00017532889964058996 244\n",
      "gen_epoch_loss  11.83867073059082 245\n",
      "disc_epoch_loss 0.00014814072026638313 245\n",
      "gen_epoch_loss  11.805660018920898 246\n",
      "disc_epoch_loss 0.0001247343338036444 246\n"
     ]
    },
    {
     "name": "stderr",
     "output_type": "stream",
     "text": [
      "/home/gin/Desktop/FINAL_PROJECT/Utils/Visualizer.py:27: RuntimeWarning: invalid value encountered in divide\n",
      "  f1s = 2 * precs * recs / (precs + recs)\n",
      "/home/gin/Desktop/FINAL_PROJECT/Utils/Visualizer.py:28: RuntimeWarning: invalid value encountered in divide\n",
      "  f2s = 5 * precs * recs / (4 * precs + recs)\n"
     ]
    },
    {
     "name": "stdout",
     "output_type": "stream",
     "text": [
      "gen_epoch_loss  11.792208709716796 247\n",
      "disc_epoch_loss 0.0001437199066276662 247\n"
     ]
    },
    {
     "name": "stderr",
     "output_type": "stream",
     "text": [
      "/home/gin/Desktop/FINAL_PROJECT/Utils/Visualizer.py:27: RuntimeWarning: invalid value encountered in divide\n",
      "  f1s = 2 * precs * recs / (precs + recs)\n",
      "/home/gin/Desktop/FINAL_PROJECT/Utils/Visualizer.py:28: RuntimeWarning: invalid value encountered in divide\n",
      "  f2s = 5 * precs * recs / (4 * precs + recs)\n"
     ]
    },
    {
     "name": "stdout",
     "output_type": "stream",
     "text": [
      "gen_epoch_loss  11.996654510498047 248\n",
      "disc_epoch_loss 0.00017843056324636563 248\n"
     ]
    },
    {
     "name": "stderr",
     "output_type": "stream",
     "text": [
      "/home/gin/Desktop/FINAL_PROJECT/Utils/Visualizer.py:27: RuntimeWarning: invalid value encountered in divide\n",
      "  f1s = 2 * precs * recs / (precs + recs)\n",
      "/home/gin/Desktop/FINAL_PROJECT/Utils/Visualizer.py:28: RuntimeWarning: invalid value encountered in divide\n",
      "  f2s = 5 * precs * recs / (4 * precs + recs)\n"
     ]
    },
    {
     "name": "stdout",
     "output_type": "stream",
     "text": [
      "gen_epoch_loss  11.893907356262208 249\n",
      "disc_epoch_loss 0.00013923473648901562 249\n",
      "gen_epoch_loss  11.910452880859374 250\n",
      "disc_epoch_loss 0.00013159600843209773 250\n",
      "gen_epoch_loss  11.973886795043946 251\n",
      "disc_epoch_loss 0.0001323197057354264 251\n"
     ]
    },
    {
     "name": "stderr",
     "output_type": "stream",
     "text": [
      "/home/gin/Desktop/FINAL_PROJECT/Utils/Visualizer.py:27: RuntimeWarning: invalid value encountered in divide\n",
      "  f1s = 2 * precs * recs / (precs + recs)\n",
      "/home/gin/Desktop/FINAL_PROJECT/Utils/Visualizer.py:28: RuntimeWarning: invalid value encountered in divide\n",
      "  f2s = 5 * precs * recs / (4 * precs + recs)\n"
     ]
    },
    {
     "name": "stdout",
     "output_type": "stream",
     "text": [
      "gen_epoch_loss  11.78428337097168 252\n",
      "disc_epoch_loss 0.00017291823620325887 252\n"
     ]
    },
    {
     "name": "stderr",
     "output_type": "stream",
     "text": [
      "/home/gin/Desktop/FINAL_PROJECT/Utils/Visualizer.py:27: RuntimeWarning: invalid value encountered in divide\n",
      "  f1s = 2 * precs * recs / (precs + recs)\n",
      "/home/gin/Desktop/FINAL_PROJECT/Utils/Visualizer.py:28: RuntimeWarning: invalid value encountered in divide\n",
      "  f2s = 5 * precs * recs / (4 * precs + recs)\n"
     ]
    },
    {
     "name": "stdout",
     "output_type": "stream",
     "text": [
      "gen_epoch_loss  11.799503211975098 253\n",
      "disc_epoch_loss 0.00017895270881126634 253\n",
      "gen_epoch_loss  11.739974288940429 254\n",
      "disc_epoch_loss 0.00015341356891440227 254\n",
      "gen_epoch_loss  11.768791809082032 255\n",
      "disc_epoch_loss 0.00011088517800089903 255\n",
      "gen_epoch_loss  11.628105392456055 256\n",
      "disc_epoch_loss 0.0001341104117454961 256\n",
      "gen_epoch_loss  11.701593399047852 257\n",
      "disc_epoch_loss 0.0002519343041058164 257\n",
      "gen_epoch_loss  11.584817695617676 258\n",
      "disc_epoch_loss 0.00014496481693640817 258\n",
      "gen_epoch_loss  11.571233139038085 259\n",
      "disc_epoch_loss 0.0001231089493376203 259\n",
      "gen_epoch_loss  11.58965488433838 260\n",
      "disc_epoch_loss 0.00010682531632483005 260\n",
      "gen_epoch_loss  11.577154541015625 261\n",
      "disc_epoch_loss 0.0001435074012260884 261\n"
     ]
    },
    {
     "name": "stderr",
     "output_type": "stream",
     "text": [
      "/home/gin/Desktop/FINAL_PROJECT/Utils/Visualizer.py:27: RuntimeWarning: invalid value encountered in divide\n",
      "  f1s = 2 * precs * recs / (precs + recs)\n",
      "/home/gin/Desktop/FINAL_PROJECT/Utils/Visualizer.py:28: RuntimeWarning: invalid value encountered in divide\n",
      "  f2s = 5 * precs * recs / (4 * precs + recs)\n"
     ]
    },
    {
     "name": "stdout",
     "output_type": "stream",
     "text": [
      "gen_epoch_loss  11.631961631774903 262\n",
      "disc_epoch_loss 0.00014801071607507767 262\n",
      "gen_epoch_loss  11.590810508728028 263\n",
      "disc_epoch_loss 0.00013417042602668517 263\n",
      "gen_epoch_loss  11.64013900756836 264\n",
      "disc_epoch_loss 0.00011949595500482246 264\n",
      "gen_epoch_loss  11.673096466064454 265\n",
      "disc_epoch_loss 0.00010767838670290075 265\n",
      "gen_epoch_loss  11.59343936920166 266\n",
      "disc_epoch_loss 0.0001336755653755972 266\n",
      "gen_epoch_loss  11.60314395904541 267\n",
      "disc_epoch_loss 0.00011608889370108955 267\n",
      "gen_epoch_loss  11.64083854675293 268\n",
      "disc_epoch_loss 0.00010971747513394803 268\n",
      "gen_epoch_loss  11.593824768066407 269\n",
      "disc_epoch_loss 0.00010520312891458161 269\n",
      "gen_epoch_loss  11.628653869628906 270\n",
      "disc_epoch_loss 0.0001253307279694127 270\n",
      "gen_epoch_loss  11.641158638000489 271\n",
      "disc_epoch_loss 0.00011701053561409936 271\n",
      "gen_epoch_loss  11.692355766296387 272\n",
      "disc_epoch_loss 0.00010324426752049476 272\n",
      "gen_epoch_loss  11.616001205444336 273\n",
      "disc_epoch_loss 0.00012234364228788763 273\n"
     ]
    },
    {
     "name": "stderr",
     "output_type": "stream",
     "text": [
      "/home/gin/Desktop/FINAL_PROJECT/Utils/Visualizer.py:27: RuntimeWarning: invalid value encountered in divide\n",
      "  f1s = 2 * precs * recs / (precs + recs)\n",
      "/home/gin/Desktop/FINAL_PROJECT/Utils/Visualizer.py:28: RuntimeWarning: invalid value encountered in divide\n",
      "  f2s = 5 * precs * recs / (4 * precs + recs)\n"
     ]
    },
    {
     "name": "stdout",
     "output_type": "stream",
     "text": [
      "gen_epoch_loss  11.606933174133301 274\n",
      "disc_epoch_loss 9.862662554951384e-05 274\n"
     ]
    },
    {
     "name": "stderr",
     "output_type": "stream",
     "text": [
      "/home/gin/Desktop/FINAL_PROJECT/Utils/Visualizer.py:27: RuntimeWarning: invalid value encountered in divide\n",
      "  f1s = 2 * precs * recs / (precs + recs)\n",
      "/home/gin/Desktop/FINAL_PROJECT/Utils/Visualizer.py:28: RuntimeWarning: invalid value encountered in divide\n",
      "  f2s = 5 * precs * recs / (4 * precs + recs)\n"
     ]
    },
    {
     "name": "stdout",
     "output_type": "stream",
     "text": [
      "gen_epoch_loss  11.660409889221192 275\n",
      "disc_epoch_loss 0.00017234921346243937 275\n",
      "gen_epoch_loss  11.55747730255127 276\n",
      "disc_epoch_loss 0.00011480243905680254 276\n",
      "gen_epoch_loss  11.535928115844726 277\n",
      "disc_epoch_loss 0.00011649341089650989 277\n",
      "gen_epoch_loss  11.6133003616333 278\n",
      "disc_epoch_loss 8.874121653207112e-05 278\n",
      "gen_epoch_loss  11.577587509155274 279\n",
      "disc_epoch_loss 0.00020891678228508682 279\n",
      "gen_epoch_loss  11.561844940185546 280\n",
      "disc_epoch_loss 0.00014547719518304803 280\n",
      "gen_epoch_loss  11.491515579223632 281\n",
      "disc_epoch_loss 0.00012639585089345927 281\n",
      "gen_epoch_loss  11.55402114868164 282\n",
      "disc_epoch_loss 9.768107207491994e-05 282\n",
      "gen_epoch_loss  11.489646873474122 283\n",
      "disc_epoch_loss 0.0001061137695069192 283\n",
      "gen_epoch_loss  11.493679008483888 284\n",
      "disc_epoch_loss 0.00012325082680035847 284\n"
     ]
    },
    {
     "name": "stderr",
     "output_type": "stream",
     "text": [
      "/home/gin/Desktop/FINAL_PROJECT/Utils/Visualizer.py:27: RuntimeWarning: invalid value encountered in divide\n",
      "  f1s = 2 * precs * recs / (precs + recs)\n",
      "/home/gin/Desktop/FINAL_PROJECT/Utils/Visualizer.py:28: RuntimeWarning: invalid value encountered in divide\n",
      "  f2s = 5 * precs * recs / (4 * precs + recs)\n"
     ]
    },
    {
     "name": "stdout",
     "output_type": "stream",
     "text": [
      "gen_epoch_loss  11.51322910308838 285\n",
      "disc_epoch_loss 0.00010347735144023318 285\n",
      "gen_epoch_loss  11.525536003112792 286\n",
      "disc_epoch_loss 8.776435250183567e-05 286\n",
      "gen_epoch_loss  11.593242797851563 287\n",
      "disc_epoch_loss 0.00010936726233921945 287\n"
     ]
    },
    {
     "name": "stderr",
     "output_type": "stream",
     "text": [
      "/home/gin/Desktop/FINAL_PROJECT/Utils/Visualizer.py:27: RuntimeWarning: invalid value encountered in divide\n",
      "  f1s = 2 * precs * recs / (precs + recs)\n",
      "/home/gin/Desktop/FINAL_PROJECT/Utils/Visualizer.py:28: RuntimeWarning: invalid value encountered in divide\n",
      "  f2s = 5 * precs * recs / (4 * precs + recs)\n"
     ]
    },
    {
     "name": "stdout",
     "output_type": "stream",
     "text": [
      "gen_epoch_loss  11.54854148864746 288\n",
      "disc_epoch_loss 0.00011042348669434431 288\n",
      "gen_epoch_loss  11.54509521484375 289\n",
      "disc_epoch_loss 0.00010197114563197828 289\n",
      "gen_epoch_loss  11.60391056060791 290\n",
      "disc_epoch_loss 0.00010579028152278625 290\n",
      "gen_epoch_loss  11.504677505493165 291\n",
      "disc_epoch_loss 9.719113397295587e-05 291\n",
      "gen_epoch_loss  11.438172149658204 292\n",
      "disc_epoch_loss 8.49287898017792e-05 292\n",
      "gen_epoch_loss  11.39634880065918 293\n",
      "disc_epoch_loss 8.802498690783978e-05 293\n",
      "gen_epoch_loss  11.39883674621582 294\n",
      "disc_epoch_loss 0.0001497670717071742 294\n",
      "gen_epoch_loss  11.422783203125 295\n",
      "disc_epoch_loss 0.00010376965859904885 295\n",
      "gen_epoch_loss  11.472349014282226 296\n",
      "disc_epoch_loss 9.730249978019856e-05 296\n",
      "gen_epoch_loss  11.465725173950196 297\n",
      "disc_epoch_loss 8.188580606656615e-05 297\n",
      "gen_epoch_loss  11.470637931823731 298\n",
      "disc_epoch_loss 0.0001239235069078859 298\n"
     ]
    },
    {
     "name": "stderr",
     "output_type": "stream",
     "text": [
      "/home/gin/Desktop/FINAL_PROJECT/Utils/Visualizer.py:27: RuntimeWarning: invalid value encountered in divide\n",
      "  f1s = 2 * precs * recs / (precs + recs)\n",
      "/home/gin/Desktop/FINAL_PROJECT/Utils/Visualizer.py:28: RuntimeWarning: invalid value encountered in divide\n",
      "  f2s = 5 * precs * recs / (4 * precs + recs)\n"
     ]
    },
    {
     "name": "stdout",
     "output_type": "stream",
     "text": [
      "gen_epoch_loss  11.535561561584473 299\n",
      "disc_epoch_loss 9.57688943890389e-05 299\n",
      "gen_epoch_loss  11.613504867553711 300\n",
      "disc_epoch_loss 8.850451740727294e-05 300\n",
      "Checkpoint saved successfully at epoch 300\n"
     ]
    }
   ],
   "source": [
    "Trainer.train(train_loader, test_neg_loader, test_pos_loader)"
   ]
  }
 ],
 "metadata": {
  "kernelspec": {
   "display_name": "vdt",
   "language": "python",
   "name": "python3"
  },
  "language_info": {
   "codemirror_mode": {
    "name": "ipython",
    "version": 3
   },
   "file_extension": ".py",
   "mimetype": "text/x-python",
   "name": "python",
   "nbconvert_exporter": "python",
   "pygments_lexer": "ipython3",
   "version": "3.10.11"
  },
  "orig_nbformat": 4
 },
 "nbformat": 4,
 "nbformat_minor": 2
}
